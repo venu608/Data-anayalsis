{
 "cells": [
  {
   "cell_type": "code",
   "execution_count": 5,
   "metadata": {},
   "outputs": [],
   "source": [
    "import numpy as np\n",
    "import scipy.stats as stats\n",
    "import matplotlib.pyplot as plt\n",
    "import pandas as pd\n"
   ]
  },
  {
   "cell_type": "markdown",
   "metadata": {},
   "source": [
    "QUESTION:-1\n",
    "planned to purchase the product   *A* actually placed and o0rder for product *A* -YES  actally placed and order for product *A*-NO \n",
    " YES  =   400, 100, 500\n",
    " NO   =   200,1300,1500\n",
    " TOTAL=   600,1400,2000\n",
    "1)Find the joint probablity of the people who planned to purchase and actually placed n order \n",
    "\n",
    "2)Find the joint probablity of the people who planne to purchase and actually placed an order,given that people planned to purchase\n",
    "    "
   ]
  },
  {
   "cell_type": "markdown",
   "metadata": {},
   "source": [
    "# me  observe from the above table, that 400 people planned to purchase and actually placed an order for 'A'\n",
    "400 out of 2000 people."
   ]
  },
  {
   "cell_type": "code",
   "execution_count": 7,
   "metadata": {},
   "outputs": [
    {
     "name": "stdout",
     "output_type": "stream",
     "text": [
      "Joint probability of the people who planned to purchase and actually placed an order. is 0.2000\n"
     ]
    }
   ],
   "source": [
    "# FE6 is the number of people who planned and actually placed an order for  'A'\n",
    "FE6 = 400\n",
    "TE  = 2000\n",
    "PE7 = round(FE6 / TE,4)\n",
    "print('Joint probability of the people who planned to purchase and actually placed an order. is %1.4f'%PE7)"
   ]
  },
  {
   "cell_type": "code",
   "execution_count": 8,
   "metadata": {},
   "outputs": [
    {
     "name": "stdout",
     "output_type": "stream",
     "text": [
      "P(Actually placed an order | Planned to purchase) is 0.8000\n"
     ]
    }
   ],
   "source": [
    "# P1 = P(Actually placed an order | Planned to purchase)\n",
    "# P2 = Planned to purchase and actually placed an order\n",
    "# P3 = Planned to purchase\n",
    "P4   = (400 / 2000 )/ (500 / 2000)\n",
    "\n",
    "print('P(Actually placed an order | Planned to purchase) is %1.4f' % P4)     "
   ]
  },
  {
   "cell_type": "code",
   "execution_count": 6,
   "metadata": {
    "collapsed": true
   },
   "outputs": [
    {
     "ename": "SyntaxError",
     "evalue": "invalid syntax (<ipython-input-6-7486b1fe6e52>, line 3)",
     "output_type": "error",
     "traceback": [
      "\u001b[1;36m  File \u001b[1;32m\"<ipython-input-6-7486b1fe6e52>\"\u001b[1;36m, line \u001b[1;32m3\u001b[0m\n\u001b[1;33m    Question: An electrical manufacturing company conducts quality checks at specified periods on the\u001b[0m\n\u001b[1;37m                 ^\u001b[0m\n\u001b[1;31mSyntaxError\u001b[0m\u001b[1;31m:\u001b[0m invalid syntax\n"
     ]
    }
   ],
   "source": [
    "Question: 2 \n",
    "\n",
    "Question: An electrical manufacturing company conducts quality checks at specified periods on the\n",
    "products it manufactures. Historically, the failure rate for the manufactured item is 5%. Suppose a random\n",
    "sample of 10 manufactured items is selected. Answer the following questions.\n",
    "\n",
    "A. Probability that none of the items are defective?\n",
    "\n",
    "B. Probability that exactly one of the items is defective?\n",
    "\n",
    "C. Probability that two or fewer of the items are defective?\n",
    "\n",
    "D. Probability that three or more of the items are defective ?"
   ]
  },
  {
   "cell_type": "code",
   "execution_count": 9,
   "metadata": {},
   "outputs": [],
   "source": [
    "# A. 0.5987\n",
    "# B. 0.3151\n",
    "# C. 0.9885\n",
    "# D. 0.0115"
   ]
  },
  {
   "cell_type": "code",
   "execution_count": 10,
   "metadata": {},
   "outputs": [
    {
     "data": {
      "text/plain": [
       "array([5.98736939e-01, 3.15124705e-01, 7.46347985e-02, 1.04750594e-02,\n",
       "       9.64808106e-04, 6.09352488e-05, 2.67259863e-06, 8.03789063e-08,\n",
       "       1.58642578e-09, 1.85546875e-11, 9.76562500e-14])"
      ]
     },
     "execution_count": 10,
     "metadata": {},
     "output_type": "execute_result"
    }
   ],
   "source": [
    "n = 10\n",
    "p = 0.05\n",
    "k = np.arange(0,11)\n",
    "binomial = stats.binom.pmf(k,n,p)\n",
    "binomial"
   ]
  },
  {
   "cell_type": "code",
   "execution_count": 11,
   "metadata": {},
   "outputs": [
    {
     "name": "stdout",
     "output_type": "stream",
     "text": [
      "Probability that none of the items are defective:  0.5987369392383789\n"
     ]
    }
   ],
   "source": [
    "#  A. Probability that none of the items are defective? \n",
    "answer_a = stats.binom.pmf(0,n,p)\n",
    "print('Probability that none of the items are defective: ', answer_a)"
   ]
  },
  {
   "cell_type": "code",
   "execution_count": 12,
   "metadata": {},
   "outputs": [
    {
     "name": "stdout",
     "output_type": "stream",
     "text": [
      "Probability that exactly one of the items is defective:  0.31512470486230504\n"
     ]
    }
   ],
   "source": [
    "#  B. Probability that exactly one of the items is defective? \n",
    "answer_b = stats.binom.pmf(1,n,p)\n",
    "print('Probability that exactly one of the items is defective: ',answer_b)"
   ]
  },
  {
   "cell_type": "code",
   "execution_count": 13,
   "metadata": {},
   "outputs": [
    {
     "name": "stdout",
     "output_type": "stream",
     "text": [
      "Probability that two or fewer of the items are defective:  0.9884964426207035\n"
     ]
    }
   ],
   "source": [
    "#  C. Probability that two or fewer of the items are defective? \n",
    "answer_c = stats.binom.pmf(2,n,p) + stats.binom.pmf(1,n,p) + stats.binom.pmf(0,n,p)\n",
    "print('Probability that two or fewer of the items are defective: ', answer_c)"
   ]
  },
  {
   "cell_type": "code",
   "execution_count": 14,
   "metadata": {},
   "outputs": [
    {
     "name": "stdout",
     "output_type": "stream",
     "text": [
      "Probability that three or more of the items are defective:  0.011503557379296536\n"
     ]
    }
   ],
   "source": [
    "#  D. Probability that three or more of the items are defective ?\n",
    "answer_d = 1 - answer_c\n",
    "print('Probability that three or more of the items are defective: ', answer_d)"
   ]
  },
  {
   "cell_type": "code",
   "execution_count": 15,
   "metadata": {},
   "outputs": [],
   "source": [
    "# Plot the binomial distribution function"
   ]
  },
  {
   "cell_type": "code",
   "execution_count": 16,
   "metadata": {},
   "outputs": [
    {
     "data": {
      "image/png": "[encoded data removed]",
      "text/plain": [
       "<Figure size 432x288 with 1 Axes>"
      ]
     },
     "metadata": {
      "needs_background": "light"
     },
     "output_type": "display_data"
    }
   ],
   "source": [
    "plt.plot(k,binomial, 'o-')\n",
    "plt.title('Binomial')\n",
    "plt.xlabel('Number of Defective')\n",
    "plt.ylabel('Prob of Defective')\n",
    "plt.show()"
   ]
  },
  {
   "cell_type": "code",
   "execution_count": 42,
   "metadata": {
    "collapsed": true
   },
   "outputs": [
    {
     "ename": "IndentationError",
     "evalue": "unexpected indent (<ipython-input-42-4501a22ae64a>, line 3)",
     "output_type": "error",
     "traceback": [
      "\u001b[1;36m  File \u001b[1;32m\"<ipython-input-42-4501a22ae64a>\"\u001b[1;36m, line \u001b[1;32m3\u001b[0m\n\u001b[1;33m    A car salesman sells on an average 3 cars per week.\u001b[0m\n\u001b[1;37m    ^\u001b[0m\n\u001b[1;31mIndentationError\u001b[0m\u001b[1;31m:\u001b[0m unexpected indent\n"
     ]
    }
   ],
   "source": [
    "Question: 3\n",
    "    \n",
    " A car salesman sells on an average 3 cars per week.\n",
    "\n",
    "A. Probability that in a given week he will sell some cars.\n",
    "\n",
    "B. Probability that in a given week he will sell 2 or more but less than 5 cars.\n",
    "\n",
    "C. Plot the poisson distribution function for cumulative probability of cars sold per-week vs number of cars sold perweek.\n"
   ]
  },
  {
   "cell_type": "code",
   "execution_count": 17,
   "metadata": {},
   "outputs": [],
   "source": [
    "rate = 3"
   ]
  },
  {
   "cell_type": "code",
   "execution_count": 18,
   "metadata": {},
   "outputs": [],
   "source": [
    "n=np.arange(0,10)"
   ]
  },
  {
   "cell_type": "code",
   "execution_count": 19,
   "metadata": {},
   "outputs": [
    {
     "data": {
      "text/plain": [
       "array([0.04978707, 0.14936121, 0.22404181, 0.22404181, 0.16803136,\n",
       "       0.10081881, 0.05040941, 0.02160403, 0.00810151, 0.0027005 ])"
      ]
     },
     "execution_count": 19,
     "metadata": {},
     "output_type": "execute_result"
    }
   ],
   "source": [
    "poisson1 = stats.poisson.pmf(n,rate)\n",
    "poisson1"
   ]
  },
  {
   "cell_type": "code",
   "execution_count": 20,
   "metadata": {},
   "outputs": [
    {
     "name": "stdout",
     "output_type": "stream",
     "text": [
      "Probability that in a given week he will sell some cars: 0.950212931632136\n"
     ]
    }
   ],
   "source": [
    "# Probability that in a given week he will sell some cars:\n",
    "#  \"Some Cars\" means \"1 or more Cars\"\n",
    "A = 1 - poisson1[0]\n",
    "print('Probability that in a given week he will sell some cars:', A)"
   ]
  },
  {
   "cell_type": "code",
   "execution_count": 21,
   "metadata": {},
   "outputs": [
    {
     "name": "stdout",
     "output_type": "stream",
     "text": [
      "Probability that in a given week he will sell 2 or more but less than 5 cars:  0.6161149710523164\n"
     ]
    }
   ],
   "source": [
    "# Probability that in a given week he will sell 2 or more but less than 5 cars.\n",
    "B = poisson1[2]+poisson1[3]+poisson1[4]\n",
    "print('Probability that in a given week he will sell 2 or more but less than 5 cars: ',B)"
   ]
  },
  {
   "cell_type": "code",
   "execution_count": 22,
   "metadata": {},
   "outputs": [
    {
     "data": {
      "image/png": "[encoded data removed]",
      "text/plain": [
       "<Figure size 432x288 with 1 Axes>"
      ]
     },
     "metadata": {
      "needs_background": "light"
     },
     "output_type": "display_data"
    }
   ],
   "source": [
    "plt.plot(n, poisson1,'o-')\n",
    "plt.title('poisson: rate = 3')\n",
    "plt.xlabel('Number of Cars sell in week')\n",
    "plt.ylabel('Probability of number of Cars sell in week')\n",
    "plt.show()"
   ]
  },
  {
   "cell_type": "code",
   "execution_count": 23,
   "metadata": {
    "collapsed": true
   },
   "outputs": [
    {
     "ename": "IndentationError",
     "evalue": "unexpected indent (<ipython-input-23-53871bcde3fd>, line 4)",
     "output_type": "error",
     "traceback": [
      "\u001b[1;36m  File \u001b[1;32m\"<ipython-input-23-53871bcde3fd>\"\u001b[1;36m, line \u001b[1;32m4\u001b[0m\n\u001b[1;33m    Accuracy in understanding orders for a speech based bot at a restaurant is important for the\u001b[0m\n\u001b[1;37m    ^\u001b[0m\n\u001b[1;31mIndentationError\u001b[0m\u001b[1;31m:\u001b[0m unexpected indent\n"
     ]
    }
   ],
   "source": [
    "Question: 4\n",
    "    \n",
    "    \n",
    "  Accuracy in understanding orders for a speech based bot at a restaurant is important for the\n",
    "Company X which has designed, marketed and launched the product for a contactless delivery due to the\n",
    "COVID-19 pandemic. Recognition accuracy that measures the percentage of orders that are taken correctly is 86.8%. Suppose that you place order with the bot and two friends of yours independently place orders with\n",
    "the same bot. Answer the following questions.\n",
    "\n",
    "A. What is the probability that all three orders will be recognised correctly?\n",
    "\n",
    "B. What is the probability that none of the three orders will be recognised correctly?\n",
    "\n",
    "C. What is the probability that at least two of the three orders will be recognised correctly?"
   ]
  },
  {
   "cell_type": "code",
   "execution_count": 24,
   "metadata": {},
   "outputs": [
    {
     "data": {
      "text/plain": [
       "array([0.00229997, 0.0453721 , 0.2983559 , 0.65397203])"
      ]
     },
     "execution_count": 24,
     "metadata": {},
     "output_type": "execute_result"
    }
   ],
   "source": [
    "n=3\n",
    "p=0.868\n",
    "k=np.arange(0,4)\n",
    "binomial1 = stats.binom.pmf(k,n,p)\n",
    "binomial1"
   ]
  },
  {
   "cell_type": "code",
   "execution_count": 25,
   "metadata": {},
   "outputs": [
    {
     "name": "stdout",
     "output_type": "stream",
     "text": [
      "The probability that all three orders will be recognised correctly:  0.653972032\n"
     ]
    }
   ],
   "source": [
    "# A. What is the probability that all three orders will be recognised correctly?\n",
    "C = stats.binom.pmf(3,n,p)\n",
    "print('The probability that all three orders will be recognised correctly: ', C)"
   ]
  },
  {
   "cell_type": "code",
   "execution_count": 26,
   "metadata": {},
   "outputs": [
    {
     "name": "stdout",
     "output_type": "stream",
     "text": [
      "The probability that none of the three orders will be recognised correctly:  0.002299968\n"
     ]
    }
   ],
   "source": [
    "# B. What is the probability that none of the three orders will be recognised correctly?\n",
    "D = stats.binom.pmf(0,n,p)\n",
    "print('The probability that none of the three orders will be recognised correctly: ',D)"
   ]
  },
  {
   "cell_type": "code",
   "execution_count": 27,
   "metadata": {},
   "outputs": [
    {
     "name": "stdout",
     "output_type": "stream",
     "text": [
      "The probability that at least two of the three orders will be recognised correctly:  0.9523279359999999\n"
     ]
    }
   ],
   "source": [
    "# C. What is the probability that at least two of the three orders will be recognised correctly?\n",
    "E = stats.binom.pmf(2,n,p)+stats.binom.pmf(3,n,p)\n",
    "print('The probability that at least two of the three orders will be recognised correctly: ',E)"
   ]
  },
  {
   "cell_type": "code",
   "execution_count": null,
   "metadata": {},
   "outputs": [],
   "source": [
    " Question: 5\n",
    "        \n",
    "   A group of 300 professionals sat for a competitive exam. The results show the information of\n",
    "marks obtained by them have a mean of 60 and a standard deviation of 12. The pattern of marks follows a\n",
    "normal distribution. Answer the following questions.\n",
    "\n",
    "A. What is the percentage of students who score more than 80.\n",
    "\n",
    "B. What is the percentage of students who score less than 50.\n",
    "\n",
    "C. What should be the distinction mark if the highest 10% of studen"
   ]
  },
  {
   "cell_type": "code",
   "execution_count": 28,
   "metadata": {},
   "outputs": [
    {
     "data": {
      "text/plain": [
       "1.0"
      ]
     },
     "execution_count": 28,
     "metadata": {},
     "output_type": "execute_result"
    }
   ],
   "source": [
    "stats.norm.cdf(300,loc=60,scale=12)"
   ]
  },
  {
   "cell_type": "code",
   "execution_count": 29,
   "metadata": {},
   "outputs": [
    {
     "data": {
      "text/plain": [
       "4.77903522728147"
      ]
     },
     "execution_count": 29,
     "metadata": {},
     "output_type": "execute_result"
    }
   ],
   "source": [
    "# A. What is the percentage of students who score more than 80.\n",
    "(1-stats.norm.cdf(80,loc=60,scale=12))*100"
   ]
  },
  {
   "cell_type": "code",
   "execution_count": 30,
   "metadata": {},
   "outputs": [
    {
     "data": {
      "text/plain": [
       "20.232838096364308"
      ]
     },
     "execution_count": 30,
     "metadata": {},
     "output_type": "execute_result"
    }
   ],
   "source": [
    "# B. What is the percentage of students who score less than 50.\n",
    "(stats.norm.cdf(50,loc=60,scale=12))*100"
   ]
  },
  {
   "cell_type": "code",
   "execution_count": 13,
   "metadata": {},
   "outputs": [
    {
     "data": {
      "text/plain": [
       "2.993024867765764e-07"
      ]
     },
     "execution_count": 13,
     "metadata": {},
     "output_type": "execute_result"
    }
   ],
   "source": [
    "# C. What should be the distinction mark if the highest 10% of students are to be awarded distinction? \n",
    "stats.norm.cdf(0.1,loc=60,scale=12)"
   ]
  },
  {
   "cell_type": "code",
   "execution_count": 58,
   "metadata": {
    "collapsed": true
   },
   "outputs": [
    {
     "ename": "SyntaxError",
     "evalue": "invalid syntax (<ipython-input-58-b47613d08b41>, line 3)",
     "output_type": "error",
     "traceback": [
      "\u001b[1;36m  File \u001b[1;32m\"<ipython-input-58-b47613d08b41>\"\u001b[1;36m, line \u001b[1;32m3\u001b[0m\n\u001b[1;33m    Explain 1 real life industry scenario [other than the ones mentioned above] where you can use the\u001b[0m\n\u001b[1;37m            ^\u001b[0m\n\u001b[1;31mSyntaxError\u001b[0m\u001b[1;31m:\u001b[0m invalid syntax\n"
     ]
    }
   ],
   "source": [
    "Question: 6\n",
    "    \n",
    "Explain 1 real life industry scenario [other than the ones mentioned above] where you can use the\n",
    "\n",
    "concepts learnt in this module of Applied statistics to get a data driven business solution.\n"
   ]
  },
  {
   "cell_type": "code",
   "execution_count": 59,
   "metadata": {
    "collapsed": true
   },
   "outputs": [
    {
     "ename": "SyntaxError",
     "evalue": "invalid syntax (<ipython-input-59-eb9e16e5eab2>, line 2)",
     "output_type": "error",
     "traceback": [
      "\u001b[1;36m  File \u001b[1;32m\"<ipython-input-59-eb9e16e5eab2>\"\u001b[1;36m, line \u001b[1;32m2\u001b[0m\n\u001b[1;33m    1. Probability helps in analyzing the best plan of insurance which suits for companys the most.\u001b[0m\n\u001b[1;37m       ^\u001b[0m\n\u001b[1;31mSyntaxError\u001b[0m\u001b[1;31m:\u001b[0m invalid syntax\n"
     ]
    }
   ],
   "source": [
    "Examples \n",
    "1. Probability helps in analyzing the best plan of insurance which suits for companys the most. \n",
    "For example, we have lot of machinary is their in company they highly cost if in case any short circute was occure means we lose the machinary and profit , if insurance is their means we clime the insurance so comapny will refund the lose. So, instead of choosing an insurance scheme for your vehicle or house, you may go for your health insurance first, because the chance of your getting sick are higher.\n",
    "nowadays people are doing the insurance for car automobiles also\n",
    "\n",
    "2. Technical Stock Market\n",
    "For example, to analyze about the rise and fall in the prices of the shares in the stock market. These changes in the log values of Forex rates, price indices, and stock prices return often form a bell-shaped curve. For stock returns, the standard deviation is often called volatility. If returns are normally distributed, more than 99 percent of the returns are expected to fall within the deviations of the mean value. Such characteristics of the bell-shaped normal distribution allow analysts and investors to make statistical inferences about the expected return and risk of stocks."
   ]
  },
  {
   "cell_type": "code",
   "execution_count": null,
   "metadata": {},
   "outputs": [],
   "source": []
  },
  {
   "cell_type": "markdown",
   "metadata": {},
   "source": [
    "# PART:-2"
   ]
  },
  {
   "cell_type": "code",
   "execution_count": 1,
   "metadata": {
    "collapsed": true
   },
   "outputs": [
    {
     "ename": "SyntaxError",
     "evalue": "invalid character in identifier (<ipython-input-1-a028fb0d4b93>, line 1)",
     "output_type": "error",
     "traceback": [
      "\u001b[1;36m  File \u001b[1;32m\"<ipython-input-1-a028fb0d4b93>\"\u001b[1;36m, line \u001b[1;32m1\u001b[0m\n\u001b[1;33m    • DOMAIN: Sports\u001b[0m\n\u001b[1;37m    ^\u001b[0m\n\u001b[1;31mSyntaxError\u001b[0m\u001b[1;31m:\u001b[0m invalid character in identifier\n"
     ]
    }
   ],
   "source": [
    "• DOMAIN: Sports\n",
    "    \n",
    "• CONTEXT: Company X manages the men's top professional basketball division of the American league system.\n",
    "    \n",
    "The dataset contains information on all the teams that have participated in all the past tournaments. It has data\n",
    "about how many baskets each team scored, conceded, how many times they came within the first 2 positions,\n",
    "how many tournaments they have qualified, their best position in the past, etc.\n",
    "\n",
    "• DATA DESCRIPTION: Basketball.csv - The data set contains information on all the teams so far participated in\n",
    "all the past tournaments.\n",
    "\n",
    "• ATTRIBUTE INFORMATION:\n",
    "1. Team: Team’s name\n",
    "2. Tournament: Number of played tournaments.\n",
    "3. Score: Team’s score so far.\n",
    "4. PlayedGames: Games played by the team so far.\n",
    "5. WonGames: Games won by the team so far.\n",
    "6. DrawnGames: Games drawn by the team so far.\n",
    "7. LostGames: Games lost by the team so far.\n",
    "8. BasketScored: Basket scored by the team so far.\n",
    "9. BasketGiven: Basket scored against the team so far.\n",
    "10. TournamentChampion: How many times the team was a champion of the tournaments so far.\n",
    "11. Runner-up: How many times the team was a runners-up of the tournaments so far.\n",
    "12. TeamLaunch: Year the team was launched on professional basketball.\n",
    "13. HighestPositionHeld: Highest position held by the team amongst all the tournaments played.\n",
    "    \n",
    "• PROJECT OBJECTIVE: Company’s management wants to invest on proposal on managing some of the best\n",
    "teams in the league. The analytics department has been assigned with a task of creating a report on the\n",
    "performance shown by the teams. Some of the older teams are already in contract with competitors. Hence\n",
    "Company X wants to understand which teams they can approach which will be a deal win for them.\n",
    "\n",
    "Steps and tasks: \n",
    "    \n",
    "1. Read the data set, clean the data and prepare a final dataset to be used for analysis.\n",
    "\n",
    "2. Perform detailed statistical analysis and EDA using univariate, bi-variate and multivariate EDA techniques to get a data\n",
    "driven insights on recommending which teams they can approach which will be a deal win for them.. Also as a data\n",
    "and statistics expert you have to develop a detailed performance report using this data.\n",
    "\n",
    "3. Please include any improvements or suggestions to the association management on quality, quantity, variety, velocity,\n",
    "veracity etc. on the data points collected by the association to perform a better data analysis in future."
   ]
  },
  {
   "cell_type": "code",
   "execution_count": 46,
   "metadata": {},
   "outputs": [],
   "source": [
    "import pandas as pd\n",
    "import matplotlib.pyplot as plt\n",
    "import seaborn as sns\n",
    "import warnings\n",
    "warnings.filterwarnings(\"ignore\")\n",
    "from PIL import Image"
   ]
  },
  {
   "cell_type": "code",
   "execution_count": 47,
   "metadata": {},
   "outputs": [
    {
     "data": {
      "text/html": [
       "<div>\n",
       "<style scoped>\n",
       "    .dataframe tbody tr th:only-of-type {\n",
       "        vertical-align: middle;\n",
       "    }\n",
       "\n",
       "    .dataframe tbody tr th {\n",
       "        vertical-align: top;\n",
       "    }\n",
       "\n",
       "    .dataframe thead th {\n",
       "        text-align: right;\n",
       "    }\n",
       "</style>\n",
       "<table border=\"1\" class=\"dataframe\">\n",
       "  <thead>\n",
       "    <tr style=\"text-align: right;\">\n",
       "      <th></th>\n",
       "      <th>Team</th>\n",
       "      <th>Tournament</th>\n",
       "      <th>Score</th>\n",
       "      <th>PlayedGames</th>\n",
       "      <th>WonGames</th>\n",
       "      <th>DrawnGames</th>\n",
       "      <th>LostGames</th>\n",
       "      <th>BasketScored</th>\n",
       "      <th>BasketGiven</th>\n",
       "      <th>TournamentChampion</th>\n",
       "      <th>Runner-up</th>\n",
       "      <th>TeamLaunch</th>\n",
       "      <th>HighestPositionHeld</th>\n",
       "    </tr>\n",
       "  </thead>\n",
       "  <tbody>\n",
       "    <tr>\n",
       "      <th>0</th>\n",
       "      <td>Team 1</td>\n",
       "      <td>86</td>\n",
       "      <td>4385</td>\n",
       "      <td>2762</td>\n",
       "      <td>1647</td>\n",
       "      <td>552</td>\n",
       "      <td>563</td>\n",
       "      <td>5947</td>\n",
       "      <td>3140</td>\n",
       "      <td>33</td>\n",
       "      <td>23</td>\n",
       "      <td>1929</td>\n",
       "      <td>1</td>\n",
       "    </tr>\n",
       "    <tr>\n",
       "      <th>1</th>\n",
       "      <td>Team 2</td>\n",
       "      <td>86</td>\n",
       "      <td>4262</td>\n",
       "      <td>2762</td>\n",
       "      <td>1581</td>\n",
       "      <td>573</td>\n",
       "      <td>608</td>\n",
       "      <td>5900</td>\n",
       "      <td>3114</td>\n",
       "      <td>25</td>\n",
       "      <td>25</td>\n",
       "      <td>1929</td>\n",
       "      <td>1</td>\n",
       "    </tr>\n",
       "    <tr>\n",
       "      <th>2</th>\n",
       "      <td>Team 3</td>\n",
       "      <td>80</td>\n",
       "      <td>3442</td>\n",
       "      <td>2614</td>\n",
       "      <td>1241</td>\n",
       "      <td>598</td>\n",
       "      <td>775</td>\n",
       "      <td>4534</td>\n",
       "      <td>3309</td>\n",
       "      <td>10</td>\n",
       "      <td>8</td>\n",
       "      <td>1929</td>\n",
       "      <td>1</td>\n",
       "    </tr>\n",
       "    <tr>\n",
       "      <th>3</th>\n",
       "      <td>Team 4</td>\n",
       "      <td>82</td>\n",
       "      <td>3386</td>\n",
       "      <td>2664</td>\n",
       "      <td>1187</td>\n",
       "      <td>616</td>\n",
       "      <td>861</td>\n",
       "      <td>4398</td>\n",
       "      <td>3469</td>\n",
       "      <td>6</td>\n",
       "      <td>6</td>\n",
       "      <td>1931to32</td>\n",
       "      <td>1</td>\n",
       "    </tr>\n",
       "    <tr>\n",
       "      <th>4</th>\n",
       "      <td>Team 5</td>\n",
       "      <td>86</td>\n",
       "      <td>3368</td>\n",
       "      <td>2762</td>\n",
       "      <td>1209</td>\n",
       "      <td>633</td>\n",
       "      <td>920</td>\n",
       "      <td>4631</td>\n",
       "      <td>3700</td>\n",
       "      <td>8</td>\n",
       "      <td>7</td>\n",
       "      <td>1929</td>\n",
       "      <td>1</td>\n",
       "    </tr>\n",
       "  </tbody>\n",
       "</table>\n",
       "</div>"
      ],
      "text/plain": [
       "     Team  Tournament Score PlayedGames WonGames DrawnGames LostGames  \\\n",
       "0  Team 1          86  4385        2762     1647        552       563   \n",
       "1  Team 2          86  4262        2762     1581        573       608   \n",
       "2  Team 3          80  3442        2614     1241        598       775   \n",
       "3  Team 4          82  3386        2664     1187        616       861   \n",
       "4  Team 5          86  3368        2762     1209        633       920   \n",
       "\n",
       "  BasketScored BasketGiven TournamentChampion Runner-up TeamLaunch  \\\n",
       "0         5947        3140                 33        23       1929   \n",
       "1         5900        3114                 25        25       1929   \n",
       "2         4534        3309                 10         8       1929   \n",
       "3         4398        3469                  6         6   1931to32   \n",
       "4         4631        3700                  8         7       1929   \n",
       "\n",
       "   HighestPositionHeld  \n",
       "0                    1  \n",
       "1                    1  \n",
       "2                    1  \n",
       "3                    1  \n",
       "4                    1  "
      ]
     },
     "execution_count": 47,
     "metadata": {},
     "output_type": "execute_result"
    }
   ],
   "source": [
    "Basketball = pd.read_csv('DS - Part2 - Basketball.csv')\n",
    "Basketball.head()"
   ]
  },
  {
   "cell_type": "code",
   "execution_count": 48,
   "metadata": {},
   "outputs": [
    {
     "data": {
      "text/html": [
       "<div>\n",
       "<style scoped>\n",
       "    .dataframe tbody tr th:only-of-type {\n",
       "        vertical-align: middle;\n",
       "    }\n",
       "\n",
       "    .dataframe tbody tr th {\n",
       "        vertical-align: top;\n",
       "    }\n",
       "\n",
       "    .dataframe thead th {\n",
       "        text-align: right;\n",
       "    }\n",
       "</style>\n",
       "<table border=\"1\" class=\"dataframe\">\n",
       "  <thead>\n",
       "    <tr style=\"text-align: right;\">\n",
       "      <th></th>\n",
       "      <th>Team</th>\n",
       "      <th>Tournament</th>\n",
       "      <th>Score</th>\n",
       "      <th>PlayedGames</th>\n",
       "      <th>WonGames</th>\n",
       "      <th>DrawnGames</th>\n",
       "      <th>LostGames</th>\n",
       "      <th>BasketScored</th>\n",
       "      <th>BasketGiven</th>\n",
       "      <th>TournamentChampion</th>\n",
       "      <th>Runner-up</th>\n",
       "      <th>TeamLaunch</th>\n",
       "      <th>HighestPositionHeld</th>\n",
       "    </tr>\n",
       "  </thead>\n",
       "  <tbody>\n",
       "    <tr>\n",
       "      <th>count</th>\n",
       "      <td>61</td>\n",
       "      <td>61.000000</td>\n",
       "      <td>61</td>\n",
       "      <td>61</td>\n",
       "      <td>61</td>\n",
       "      <td>61</td>\n",
       "      <td>61</td>\n",
       "      <td>61</td>\n",
       "      <td>61</td>\n",
       "      <td>61</td>\n",
       "      <td>61</td>\n",
       "      <td>61</td>\n",
       "      <td>61.000000</td>\n",
       "    </tr>\n",
       "    <tr>\n",
       "      <th>unique</th>\n",
       "      <td>61</td>\n",
       "      <td>NaN</td>\n",
       "      <td>61</td>\n",
       "      <td>53</td>\n",
       "      <td>59</td>\n",
       "      <td>57</td>\n",
       "      <td>56</td>\n",
       "      <td>60</td>\n",
       "      <td>61</td>\n",
       "      <td>8</td>\n",
       "      <td>10</td>\n",
       "      <td>47</td>\n",
       "      <td>NaN</td>\n",
       "    </tr>\n",
       "    <tr>\n",
       "      <th>top</th>\n",
       "      <td>Team 21</td>\n",
       "      <td>NaN</td>\n",
       "      <td>1416</td>\n",
       "      <td>30</td>\n",
       "      <td>8</td>\n",
       "      <td>14</td>\n",
       "      <td>37</td>\n",
       "      <td>70</td>\n",
       "      <td>2152</td>\n",
       "      <td>-</td>\n",
       "      <td>-</td>\n",
       "      <td>1929</td>\n",
       "      <td>NaN</td>\n",
       "    </tr>\n",
       "    <tr>\n",
       "      <th>freq</th>\n",
       "      <td>1</td>\n",
       "      <td>NaN</td>\n",
       "      <td>1</td>\n",
       "      <td>3</td>\n",
       "      <td>2</td>\n",
       "      <td>2</td>\n",
       "      <td>3</td>\n",
       "      <td>2</td>\n",
       "      <td>1</td>\n",
       "      <td>52</td>\n",
       "      <td>48</td>\n",
       "      <td>10</td>\n",
       "      <td>NaN</td>\n",
       "    </tr>\n",
       "    <tr>\n",
       "      <th>mean</th>\n",
       "      <td>NaN</td>\n",
       "      <td>24.000000</td>\n",
       "      <td>NaN</td>\n",
       "      <td>NaN</td>\n",
       "      <td>NaN</td>\n",
       "      <td>NaN</td>\n",
       "      <td>NaN</td>\n",
       "      <td>NaN</td>\n",
       "      <td>NaN</td>\n",
       "      <td>NaN</td>\n",
       "      <td>NaN</td>\n",
       "      <td>NaN</td>\n",
       "      <td>7.081967</td>\n",
       "    </tr>\n",
       "    <tr>\n",
       "      <th>std</th>\n",
       "      <td>NaN</td>\n",
       "      <td>26.827225</td>\n",
       "      <td>NaN</td>\n",
       "      <td>NaN</td>\n",
       "      <td>NaN</td>\n",
       "      <td>NaN</td>\n",
       "      <td>NaN</td>\n",
       "      <td>NaN</td>\n",
       "      <td>NaN</td>\n",
       "      <td>NaN</td>\n",
       "      <td>NaN</td>\n",
       "      <td>NaN</td>\n",
       "      <td>5.276663</td>\n",
       "    </tr>\n",
       "    <tr>\n",
       "      <th>min</th>\n",
       "      <td>NaN</td>\n",
       "      <td>1.000000</td>\n",
       "      <td>NaN</td>\n",
       "      <td>NaN</td>\n",
       "      <td>NaN</td>\n",
       "      <td>NaN</td>\n",
       "      <td>NaN</td>\n",
       "      <td>NaN</td>\n",
       "      <td>NaN</td>\n",
       "      <td>NaN</td>\n",
       "      <td>NaN</td>\n",
       "      <td>NaN</td>\n",
       "      <td>1.000000</td>\n",
       "    </tr>\n",
       "    <tr>\n",
       "      <th>25%</th>\n",
       "      <td>NaN</td>\n",
       "      <td>4.000000</td>\n",
       "      <td>NaN</td>\n",
       "      <td>NaN</td>\n",
       "      <td>NaN</td>\n",
       "      <td>NaN</td>\n",
       "      <td>NaN</td>\n",
       "      <td>NaN</td>\n",
       "      <td>NaN</td>\n",
       "      <td>NaN</td>\n",
       "      <td>NaN</td>\n",
       "      <td>NaN</td>\n",
       "      <td>3.000000</td>\n",
       "    </tr>\n",
       "    <tr>\n",
       "      <th>50%</th>\n",
       "      <td>NaN</td>\n",
       "      <td>12.000000</td>\n",
       "      <td>NaN</td>\n",
       "      <td>NaN</td>\n",
       "      <td>NaN</td>\n",
       "      <td>NaN</td>\n",
       "      <td>NaN</td>\n",
       "      <td>NaN</td>\n",
       "      <td>NaN</td>\n",
       "      <td>NaN</td>\n",
       "      <td>NaN</td>\n",
       "      <td>NaN</td>\n",
       "      <td>6.000000</td>\n",
       "    </tr>\n",
       "    <tr>\n",
       "      <th>75%</th>\n",
       "      <td>NaN</td>\n",
       "      <td>38.000000</td>\n",
       "      <td>NaN</td>\n",
       "      <td>NaN</td>\n",
       "      <td>NaN</td>\n",
       "      <td>NaN</td>\n",
       "      <td>NaN</td>\n",
       "      <td>NaN</td>\n",
       "      <td>NaN</td>\n",
       "      <td>NaN</td>\n",
       "      <td>NaN</td>\n",
       "      <td>NaN</td>\n",
       "      <td>10.000000</td>\n",
       "    </tr>\n",
       "    <tr>\n",
       "      <th>max</th>\n",
       "      <td>NaN</td>\n",
       "      <td>86.000000</td>\n",
       "      <td>NaN</td>\n",
       "      <td>NaN</td>\n",
       "      <td>NaN</td>\n",
       "      <td>NaN</td>\n",
       "      <td>NaN</td>\n",
       "      <td>NaN</td>\n",
       "      <td>NaN</td>\n",
       "      <td>NaN</td>\n",
       "      <td>NaN</td>\n",
       "      <td>NaN</td>\n",
       "      <td>20.000000</td>\n",
       "    </tr>\n",
       "  </tbody>\n",
       "</table>\n",
       "</div>"
      ],
      "text/plain": [
       "           Team  Tournament Score PlayedGames WonGames DrawnGames LostGames  \\\n",
       "count        61   61.000000    61          61       61         61        61   \n",
       "unique       61         NaN    61          53       59         57        56   \n",
       "top     Team 21         NaN  1416          30        8         14        37   \n",
       "freq          1         NaN     1           3        2          2         3   \n",
       "mean        NaN   24.000000   NaN         NaN      NaN        NaN       NaN   \n",
       "std         NaN   26.827225   NaN         NaN      NaN        NaN       NaN   \n",
       "min         NaN    1.000000   NaN         NaN      NaN        NaN       NaN   \n",
       "25%         NaN    4.000000   NaN         NaN      NaN        NaN       NaN   \n",
       "50%         NaN   12.000000   NaN         NaN      NaN        NaN       NaN   \n",
       "75%         NaN   38.000000   NaN         NaN      NaN        NaN       NaN   \n",
       "max         NaN   86.000000   NaN         NaN      NaN        NaN       NaN   \n",
       "\n",
       "       BasketScored BasketGiven TournamentChampion Runner-up TeamLaunch  \\\n",
       "count            61          61                 61        61         61   \n",
       "unique           60          61                  8        10         47   \n",
       "top              70        2152                  -         -       1929   \n",
       "freq              2           1                 52        48         10   \n",
       "mean            NaN         NaN                NaN       NaN        NaN   \n",
       "std             NaN         NaN                NaN       NaN        NaN   \n",
       "min             NaN         NaN                NaN       NaN        NaN   \n",
       "25%             NaN         NaN                NaN       NaN        NaN   \n",
       "50%             NaN         NaN                NaN       NaN        NaN   \n",
       "75%             NaN         NaN                NaN       NaN        NaN   \n",
       "max             NaN         NaN                NaN       NaN        NaN   \n",
       "\n",
       "        HighestPositionHeld  \n",
       "count             61.000000  \n",
       "unique                  NaN  \n",
       "top                     NaN  \n",
       "freq                    NaN  \n",
       "mean               7.081967  \n",
       "std                5.276663  \n",
       "min                1.000000  \n",
       "25%                3.000000  \n",
       "50%                6.000000  \n",
       "75%               10.000000  \n",
       "max               20.000000  "
      ]
     },
     "execution_count": 48,
     "metadata": {},
     "output_type": "execute_result"
    }
   ],
   "source": [
    "Basketball.describe(include='all')"
   ]
  },
  {
   "cell_type": "code",
   "execution_count": 49,
   "metadata": {},
   "outputs": [
    {
     "name": "stdout",
     "output_type": "stream",
     "text": [
      "<class 'pandas.core.frame.DataFrame'>\n",
      "RangeIndex: 61 entries, 0 to 60\n",
      "Data columns (total 13 columns):\n",
      " #   Column               Non-Null Count  Dtype \n",
      "---  ------               --------------  ----- \n",
      " 0   Team                 61 non-null     object\n",
      " 1   Tournament           61 non-null     int64 \n",
      " 2   Score                61 non-null     object\n",
      " 3   PlayedGames          61 non-null     object\n",
      " 4   WonGames             61 non-null     object\n",
      " 5   DrawnGames           61 non-null     object\n",
      " 6   LostGames            61 non-null     object\n",
      " 7   BasketScored         61 non-null     object\n",
      " 8   BasketGiven          61 non-null     object\n",
      " 9   TournamentChampion   61 non-null     object\n",
      " 10  Runner-up            61 non-null     object\n",
      " 11  TeamLaunch           61 non-null     object\n",
      " 12  HighestPositionHeld  61 non-null     int64 \n",
      "dtypes: int64(2), object(11)\n",
      "memory usage: 6.3+ KB\n"
     ]
    }
   ],
   "source": [
    "Basketball.info()"
   ]
  },
  {
   "cell_type": "code",
   "execution_count": 50,
   "metadata": {},
   "outputs": [
    {
     "data": {
      "text/plain": [
       "Tournament             24.000000\n",
       "HighestPositionHeld     7.081967\n",
       "dtype: float64"
      ]
     },
     "execution_count": 50,
     "metadata": {},
     "output_type": "execute_result"
    }
   ],
   "source": [
    "Basketball.mean()"
   ]
  },
  {
   "cell_type": "code",
   "execution_count": 51,
   "metadata": {},
   "outputs": [
    {
     "data": {
      "text/plain": [
       "Team                   0\n",
       "Tournament             0\n",
       "Score                  0\n",
       "PlayedGames            0\n",
       "WonGames               0\n",
       "DrawnGames             0\n",
       "LostGames              0\n",
       "BasketScored           0\n",
       "BasketGiven            0\n",
       "TournamentChampion     0\n",
       "Runner-up              0\n",
       "TeamLaunch             0\n",
       "HighestPositionHeld    0\n",
       "dtype: int64"
      ]
     },
     "execution_count": 51,
     "metadata": {},
     "output_type": "execute_result"
    }
   ],
   "source": [
    "Basketball.isnull().sum()"
   ]
  },
  {
   "cell_type": "markdown",
   "metadata": {},
   "source": [
    "# <span style=\"font-family: Arial; font-weight:bold;font-size:1.9em;color:#0e92ea\"> Univariate Analysis\n"
   ]
  },
  {
   "cell_type": "markdown",
   "metadata": {},
   "source": [
    "<font color=darkblue> Univariate analysis refer to the analysis of a single variable. The main purpose of univariate analysis is to summarize and find patterns in the data. The key point is that there is only one variable involved in the analysis.\n",
    "    \n",
    "Let us take the 'Basketball' dataset and work on that for the univariate analysis."
   ]
  },
  {
   "cell_type": "markdown",
   "metadata": {},
   "source": [
    "<font color=darkblue>\n",
    "    \n",
    "* The plot displayed below is called as a Histogram\n",
    "    \n",
    "* The X-axis groups the observations from minimum to maximum along the axis on the basis of the discrete points or class intervals\n",
    "\n",
    "* The Y-axis measures the frequency of occurance of observations for each discrete point or class interval."
   ]
  },
  {
   "cell_type": "code",
   "execution_count": 52,
   "metadata": {
    "scrolled": false
   },
   "outputs": [
    {
     "data": {
      "text/plain": [
       "(array([[10.,  9.,  9.,  9.,  9.,  9.,  6.,  0.,  0.,  0.,  0.,  0.,  0.,\n",
       "          0.,  0.,  0.,  0.,  0.,  0.,  0.,  0.,  0.,  0.,  0.,  0.,  0.,\n",
       "          0.,  0.,  0.,  0.,  0.,  0.,  0.,  0.,  0.,  0.,  0.,  0.,  0.,\n",
       "          0.,  0.,  0.,  0.,  0.,  0.,  0.,  0.,  0.,  0.,  0.],\n",
       "        [27., 11.,  4.,  2.,  6.,  2.,  1.,  1.,  2.,  5.,  0.,  0.,  0.,\n",
       "          0.,  0.,  0.,  0.,  0.,  0.,  0.,  0.,  0.,  0.,  0.,  0.,  0.,\n",
       "          0.,  0.,  0.,  0.,  0.,  0.,  0.,  0.,  0.,  0.,  0.,  0.,  0.,\n",
       "          0.,  0.,  0.,  0.,  0.,  0.,  0.,  0.,  0.,  0.,  0.],\n",
       "        [ 0.,  0.,  0.,  0.,  0.,  0.,  3.,  9.,  9.,  9.,  9.,  9.,  9.,\n",
       "          4.,  0.,  0.,  0.,  0.,  0.,  0.,  0.,  0.,  0.,  0.,  0.,  0.,\n",
       "          0.,  0.,  0.,  0.,  0.,  0.,  0.,  0.,  0.,  0.,  0.,  0.,  0.,\n",
       "          0.,  0.,  0.,  0.,  0.,  0.,  0.,  0.,  0.,  0.,  0.],\n",
       "        [ 0.,  0.,  0.,  0.,  0.,  0.,  0.,  0.,  0.,  0.,  0.,  0.,  0.,\n",
       "          8.,  9.,  9., 10., 10., 12.,  3.,  0.,  0.,  0.,  0.,  0.,  0.,\n",
       "          0.,  0.,  0.,  0.,  0.,  0.,  0.,  0.,  0.,  0.,  0.,  0.,  0.,\n",
       "          0.,  0.,  0.,  0.,  0.,  0.,  0.,  0.,  0.,  0.,  0.],\n",
       "        [ 0.,  0.,  0.,  0.,  0.,  0.,  0.,  0.,  0.,  1.,  0.,  1.,  4.,\n",
       "          2.,  0.,  0.,  2.,  0.,  0.,  9.,  9.,  9.,  9.,  9.,  6.,  0.,\n",
       "          0.,  0.,  0.,  0.,  0.,  0.,  0.,  0.,  0.,  0.,  0.,  0.,  0.,\n",
       "          0.,  0.,  0.,  0.,  0.,  0.,  0.,  0.,  0.,  0.,  0.],\n",
       "        [ 0.,  0.,  0.,  0.,  0.,  0.,  0.,  0.,  0.,  0.,  1.,  1.,  3.,\n",
       "          3.,  0.,  0.,  0.,  1.,  0.,  0.,  0.,  0.,  1.,  3.,  8.,  9.,\n",
       "          9., 10., 11.,  1.,  0.,  0.,  0.,  0.,  0.,  0.,  0.,  0.,  0.,\n",
       "          0.,  0.,  0.,  0.,  0.,  0.,  0.,  0.,  0.,  0.,  0.],\n",
       "        [ 0.,  0.,  0.,  0.,  0.,  0.,  0.,  0.,  0.,  0.,  0.,  1.,  1.,\n",
       "          2.,  0.,  0.,  0.,  1.,  1.,  1.,  1.,  0.,  1.,  6.,  0.,  1.,\n",
       "          0.,  2.,  1.,  9.,  9., 10., 10.,  4.,  0.,  0.,  0.,  0.,  0.,\n",
       "          0.,  0.,  0.,  0.,  0.,  0.,  0.,  0.,  0.,  0.,  0.],\n",
       "        [ 0.,  0.,  0.,  0.,  0.,  0.,  0.,  0.,  0.,  0.,  1.,  0.,  2.,\n",
       "          1.,  0.,  0.,  0.,  0.,  1.,  0.,  0.,  2.,  1.,  1.,  0.,  0.,\n",
       "          0.,  0.,  0.,  0.,  2.,  0.,  1.,  6.,  9.,  9.,  9.,  9.,  7.,\n",
       "          0.,  0.,  0.,  0.,  0.,  0.,  0.,  0.,  0.,  0.,  0.],\n",
       "        [ 0.,  0.,  0.,  0.,  0.,  0.,  0.,  0.,  0.,  1.,  0.,  0.,  0.,\n",
       "          1.,  0.,  0.,  0.,  0.,  1.,  0.,  0.,  1.,  0.,  0.,  1.,  0.,\n",
       "          0.,  0.,  0.,  0.,  0.,  1.,  1.,  0.,  0.,  0.,  1.,  1.,  3.,\n",
       "          9.,  9.,  9.,  9.,  9.,  4.,  0.,  0.,  0.,  0.,  0.],\n",
       "        [ 0.,  0.,  0.,  0.,  0.,  0.,  0.,  0.,  0.,  0.,  0.,  0.,  0.,\n",
       "         52.,  0.,  0.,  0.,  0.,  0.,  0.,  0.,  0.,  0.,  0.,  1.,  0.,\n",
       "          0.,  0.,  2.,  0.,  0.,  0.,  0.,  1.,  0.,  0.,  0.,  0.,  0.,\n",
       "          0.,  0.,  0.,  0.,  0.,  5.,  0.,  0.,  0.,  0.,  0.],\n",
       "        [ 0.,  0.,  0.,  0.,  0.,  0.,  0.,  0.,  0.,  0.,  0.,  0.,  0.,\n",
       "         48.,  0.,  0.,  0.,  0.,  0.,  0.,  0.,  0.,  0.,  0.,  3.,  0.,\n",
       "          0.,  0.,  2.,  1.,  0.,  0.,  0.,  0.,  0.,  0.,  0.,  0.,  0.,\n",
       "          0.,  0.,  0.,  0.,  0.,  7.,  0.,  0.,  0.,  0.,  0.],\n",
       "        [ 0.,  0.,  0.,  0.,  0.,  0.,  0.,  0.,  0.,  0.,  0.,  0.,  0.,\n",
       "          0.,  0.,  0.,  0.,  0.,  0.,  0.,  0.,  0.,  0.,  0.,  0.,  0.,\n",
       "          0.,  0.,  0.,  0.,  0.,  0.,  0.,  0.,  0.,  0.,  0.,  0.,  0.,\n",
       "          0.,  0.,  0.,  0.,  0., 10., 11., 11., 10.,  9., 10.],\n",
       "        [44., 15.,  2.,  0.,  0.,  0.,  0.,  0.,  0.,  0.,  0.,  0.,  0.,\n",
       "          0.,  0.,  0.,  0.,  0.,  0.,  0.,  0.,  0.,  0.,  0.,  0.,  0.,\n",
       "          0.,  0.,  0.,  0.,  0.,  0.,  0.,  0.,  0.,  0.,  0.,  0.,  0.,\n",
       "          0.,  0.,  0.,  0.,  0.,  0.,  0.,  0.,  0.,  0.,  0.]]),\n",
       " array([0.0, 9.06, 18.12, 27.18, 36.24, 45.300000000000004, 54.36, 63.42,\n",
       "        72.48, 81.54, 90.60000000000001, 99.66000000000001, 108.72, 117.78,\n",
       "        126.84, 135.9, 144.96, 154.02, 163.08, 172.14000000000001,\n",
       "        181.20000000000002, 190.26000000000002, 199.32000000000002,\n",
       "        208.38000000000002, 217.44, 226.5, 235.56, 244.62, 253.68, 262.74,\n",
       "        271.8, 280.86, 289.92, 298.98, 308.04, 317.1, 326.16, 335.22,\n",
       "        344.28000000000003, 353.34000000000003, 362.40000000000003,\n",
       "        371.46000000000004, 380.52000000000004, 389.58000000000004,\n",
       "        398.64000000000004, 407.70000000000005, 416.76000000000005,\n",
       "        425.82000000000005, 434.88, 443.94, 453.0], dtype=object),\n",
       " <a list of 13 BarContainer objects>)"
      ]
     },
     "execution_count": 52,
     "metadata": {},
     "output_type": "execute_result"
    },
    {
     "data": {
      "image/png": "[encoded data removed]",
      "text/plain": [
       "<Figure size 432x288 with 1 Axes>"
      ]
     },
     "metadata": {
      "needs_background": "light"
     },
     "output_type": "display_data"
    }
   ],
   "source": [
    "# The following code plots a histrogram using the matplotlib package.\n",
    "# The bins argument creates class intervals. In this case we are creating 50 such intervals\n",
    "plt.hist(Basketball, bins=50)"
   ]
  },
  {
   "cell_type": "code",
   "execution_count": 56,
   "metadata": {},
   "outputs": [
    {
     "data": {
      "text/plain": [
       "<seaborn.axisgrid.FacetGrid at 0x2710f038df0>"
      ]
     },
     "execution_count": 56,
     "metadata": {},
     "output_type": "execute_result"
    },
    {
     "data": {
      "image/png": "[encoded data removed]",
      "text/plain": [
       "<Figure size 496.125x360 with 1 Axes>"
      ]
     },
     "metadata": {
      "needs_background": "light"
     },
     "output_type": "display_data"
    }
   ],
   "source": [
    "sns.displot(Basketball) # plots a frequency polygon superimposed on a histogram using the seaborn package."
   ]
  },
  {
   "cell_type": "markdown",
   "metadata": {},
   "source": [
    "<span style=\"font-family: Arial; font-weight:bold;font-size:1.5em;color:#0e92ea\"> Bivariate Analysis\n",
    "\n",
    "<font color=darkblue>\n",
    "    \n",
    "Through bivariate analysis we try to analyze two variables simultaneously. As opposed to univariate analysis where we check the characteristics of a single variable, in bivariate analysis we try to determine if there is any relationship between two \n",
    "variables.\n",
    "\n",
    "&nbsp;\n",
    "\n",
    "There are essentially 3 major scenarios that we will come accross when we perform bivariate analysis\n",
    "1. Both variables of interest are qualitative\n",
    "2. One variable is qualitative and the other is quantitative\n",
    "3. Both variables are quantitative\n",
    "\n",
    "&nbsp;\n",
    "\n",
    "For the purpose of this exercise, we will explore few most popular techniques to perform bivariate analysis.\n",
    "\n",
    "The following plots are not limited to the headings they are under. They are the options we have if we face a certain scenario."
   ]
  },
  {
   "cell_type": "code",
   "execution_count": 19,
   "metadata": {},
   "outputs": [
    {
     "data": {
      "text/html": [
       "<div>\n",
       "<style scoped>\n",
       "    .dataframe tbody tr th:only-of-type {\n",
       "        vertical-align: middle;\n",
       "    }\n",
       "\n",
       "    .dataframe tbody tr th {\n",
       "        vertical-align: top;\n",
       "    }\n",
       "\n",
       "    .dataframe thead th {\n",
       "        text-align: right;\n",
       "    }\n",
       "</style>\n",
       "<table border=\"1\" class=\"dataframe\">\n",
       "  <thead>\n",
       "    <tr style=\"text-align: right;\">\n",
       "      <th></th>\n",
       "      <th>Team</th>\n",
       "      <th>Tournament</th>\n",
       "      <th>Score</th>\n",
       "      <th>PlayedGames</th>\n",
       "      <th>WonGames</th>\n",
       "      <th>DrawnGames</th>\n",
       "      <th>LostGames</th>\n",
       "      <th>BasketScored</th>\n",
       "      <th>BasketGiven</th>\n",
       "      <th>TournamentChampion</th>\n",
       "      <th>Runner-up</th>\n",
       "      <th>TeamLaunch</th>\n",
       "      <th>HighestPositionHeld</th>\n",
       "    </tr>\n",
       "  </thead>\n",
       "  <tbody>\n",
       "    <tr>\n",
       "      <th>0</th>\n",
       "      <td>Team 1</td>\n",
       "      <td>86</td>\n",
       "      <td>4385</td>\n",
       "      <td>2762</td>\n",
       "      <td>1647</td>\n",
       "      <td>552</td>\n",
       "      <td>563</td>\n",
       "      <td>5947</td>\n",
       "      <td>3140</td>\n",
       "      <td>33</td>\n",
       "      <td>23</td>\n",
       "      <td>1929</td>\n",
       "      <td>1</td>\n",
       "    </tr>\n",
       "    <tr>\n",
       "      <th>1</th>\n",
       "      <td>Team 2</td>\n",
       "      <td>86</td>\n",
       "      <td>4262</td>\n",
       "      <td>2762</td>\n",
       "      <td>1581</td>\n",
       "      <td>573</td>\n",
       "      <td>608</td>\n",
       "      <td>5900</td>\n",
       "      <td>3114</td>\n",
       "      <td>25</td>\n",
       "      <td>25</td>\n",
       "      <td>1929</td>\n",
       "      <td>1</td>\n",
       "    </tr>\n",
       "    <tr>\n",
       "      <th>2</th>\n",
       "      <td>Team 3</td>\n",
       "      <td>80</td>\n",
       "      <td>3442</td>\n",
       "      <td>2614</td>\n",
       "      <td>1241</td>\n",
       "      <td>598</td>\n",
       "      <td>775</td>\n",
       "      <td>4534</td>\n",
       "      <td>3309</td>\n",
       "      <td>10</td>\n",
       "      <td>8</td>\n",
       "      <td>1929</td>\n",
       "      <td>1</td>\n",
       "    </tr>\n",
       "    <tr>\n",
       "      <th>3</th>\n",
       "      <td>Team 4</td>\n",
       "      <td>82</td>\n",
       "      <td>3386</td>\n",
       "      <td>2664</td>\n",
       "      <td>1187</td>\n",
       "      <td>616</td>\n",
       "      <td>861</td>\n",
       "      <td>4398</td>\n",
       "      <td>3469</td>\n",
       "      <td>6</td>\n",
       "      <td>6</td>\n",
       "      <td>1931to32</td>\n",
       "      <td>1</td>\n",
       "    </tr>\n",
       "    <tr>\n",
       "      <th>4</th>\n",
       "      <td>Team 5</td>\n",
       "      <td>86</td>\n",
       "      <td>3368</td>\n",
       "      <td>2762</td>\n",
       "      <td>1209</td>\n",
       "      <td>633</td>\n",
       "      <td>920</td>\n",
       "      <td>4631</td>\n",
       "      <td>3700</td>\n",
       "      <td>8</td>\n",
       "      <td>7</td>\n",
       "      <td>1929</td>\n",
       "      <td>1</td>\n",
       "    </tr>\n",
       "  </tbody>\n",
       "</table>\n",
       "</div>"
      ],
      "text/plain": [
       "     Team  Tournament Score PlayedGames WonGames DrawnGames LostGames  \\\n",
       "0  Team 1          86  4385        2762     1647        552       563   \n",
       "1  Team 2          86  4262        2762     1581        573       608   \n",
       "2  Team 3          80  3442        2614     1241        598       775   \n",
       "3  Team 4          82  3386        2664     1187        616       861   \n",
       "4  Team 5          86  3368        2762     1209        633       920   \n",
       "\n",
       "  BasketScored BasketGiven TournamentChampion Runner-up TeamLaunch  \\\n",
       "0         5947        3140                 33        23       1929   \n",
       "1         5900        3114                 25        25       1929   \n",
       "2         4534        3309                 10         8       1929   \n",
       "3         4398        3469                  6         6   1931to32   \n",
       "4         4631        3700                  8         7       1929   \n",
       "\n",
       "   HighestPositionHeld  \n",
       "0                    1  \n",
       "1                    1  \n",
       "2                    1  \n",
       "3                    1  \n",
       "4                    1  "
      ]
     },
     "execution_count": 19,
     "metadata": {},
     "output_type": "execute_result"
    }
   ],
   "source": [
    "Basketball = pd.read_csv('DS - Part2 - Basketball.csv')\n",
    "Basketball.head()"
   ]
  },
  {
   "cell_type": "code",
   "execution_count": 20,
   "metadata": {
    "scrolled": true
   },
   "outputs": [
    {
     "data": {
      "text/html": [
       "<div>\n",
       "<style scoped>\n",
       "    .dataframe tbody tr th:only-of-type {\n",
       "        vertical-align: middle;\n",
       "    }\n",
       "\n",
       "    .dataframe tbody tr th {\n",
       "        vertical-align: top;\n",
       "    }\n",
       "\n",
       "    .dataframe thead th {\n",
       "        text-align: right;\n",
       "    }\n",
       "</style>\n",
       "<table border=\"1\" class=\"dataframe\">\n",
       "  <thead>\n",
       "    <tr style=\"text-align: right;\">\n",
       "      <th></th>\n",
       "      <th>Tournament</th>\n",
       "      <th>HighestPositionHeld</th>\n",
       "    </tr>\n",
       "  </thead>\n",
       "  <tbody>\n",
       "    <tr>\n",
       "      <th>count</th>\n",
       "      <td>61.000000</td>\n",
       "      <td>61.000000</td>\n",
       "    </tr>\n",
       "    <tr>\n",
       "      <th>mean</th>\n",
       "      <td>24.000000</td>\n",
       "      <td>7.081967</td>\n",
       "    </tr>\n",
       "    <tr>\n",
       "      <th>std</th>\n",
       "      <td>26.827225</td>\n",
       "      <td>5.276663</td>\n",
       "    </tr>\n",
       "    <tr>\n",
       "      <th>min</th>\n",
       "      <td>1.000000</td>\n",
       "      <td>1.000000</td>\n",
       "    </tr>\n",
       "    <tr>\n",
       "      <th>25%</th>\n",
       "      <td>4.000000</td>\n",
       "      <td>3.000000</td>\n",
       "    </tr>\n",
       "    <tr>\n",
       "      <th>50%</th>\n",
       "      <td>12.000000</td>\n",
       "      <td>6.000000</td>\n",
       "    </tr>\n",
       "    <tr>\n",
       "      <th>75%</th>\n",
       "      <td>38.000000</td>\n",
       "      <td>10.000000</td>\n",
       "    </tr>\n",
       "    <tr>\n",
       "      <th>max</th>\n",
       "      <td>86.000000</td>\n",
       "      <td>20.000000</td>\n",
       "    </tr>\n",
       "  </tbody>\n",
       "</table>\n",
       "</div>"
      ],
      "text/plain": [
       "       Tournament  HighestPositionHeld\n",
       "count   61.000000            61.000000\n",
       "mean    24.000000             7.081967\n",
       "std     26.827225             5.276663\n",
       "min      1.000000             1.000000\n",
       "25%      4.000000             3.000000\n",
       "50%     12.000000             6.000000\n",
       "75%     38.000000            10.000000\n",
       "max     86.000000            20.000000"
      ]
     },
     "execution_count": 20,
     "metadata": {},
     "output_type": "execute_result"
    }
   ],
   "source": [
    "Basketball.describe()"
   ]
  },
  {
   "cell_type": "code",
   "execution_count": 21,
   "metadata": {},
   "outputs": [
    {
     "data": {
      "text/plain": [
       "Index(['Team', 'Tournament', 'Score', 'PlayedGames', 'WonGames', 'DrawnGames',\n",
       "       'LostGames', 'BasketScored', 'BasketGiven', 'TournamentChampion',\n",
       "       'Runner-up', 'TeamLaunch', 'HighestPositionHeld'],\n",
       "      dtype='object')"
      ]
     },
     "execution_count": 21,
     "metadata": {},
     "output_type": "execute_result"
    }
   ],
   "source": [
    "Basketball.columns"
   ]
  },
  {
   "cell_type": "code",
   "execution_count": 22,
   "metadata": {},
   "outputs": [
    {
     "data": {
      "text/plain": [
       "(61, 13)"
      ]
     },
     "execution_count": 22,
     "metadata": {},
     "output_type": "execute_result"
    }
   ],
   "source": [
    "Basketball.shape"
   ]
  },
  {
   "cell_type": "code",
   "execution_count": 23,
   "metadata": {},
   "outputs": [
    {
     "data": {
      "text/plain": [
       "object    11\n",
       "int64      2\n",
       "dtype: int64"
      ]
     },
     "execution_count": 23,
     "metadata": {},
     "output_type": "execute_result"
    }
   ],
   "source": [
    "Basketball.dtypes.value_counts()"
   ]
  },
  {
   "cell_type": "code",
   "execution_count": 24,
   "metadata": {},
   "outputs": [
    {
     "name": "stdout",
     "output_type": "stream",
     "text": [
      "<class 'pandas.core.frame.DataFrame'>\n",
      "RangeIndex: 61 entries, 0 to 60\n",
      "Data columns (total 13 columns):\n",
      " #   Column               Non-Null Count  Dtype \n",
      "---  ------               --------------  ----- \n",
      " 0   Team                 61 non-null     object\n",
      " 1   Tournament           61 non-null     int64 \n",
      " 2   Score                61 non-null     object\n",
      " 3   PlayedGames          61 non-null     object\n",
      " 4   WonGames             61 non-null     object\n",
      " 5   DrawnGames           61 non-null     object\n",
      " 6   LostGames            61 non-null     object\n",
      " 7   BasketScored         61 non-null     object\n",
      " 8   BasketGiven          61 non-null     object\n",
      " 9   TournamentChampion   61 non-null     object\n",
      " 10  Runner-up            61 non-null     object\n",
      " 11  TeamLaunch           61 non-null     object\n",
      " 12  HighestPositionHeld  61 non-null     int64 \n",
      "dtypes: int64(2), object(11)\n",
      "memory usage: 6.3+ KB\n"
     ]
    }
   ],
   "source": [
    "Basketball.info()"
   ]
  },
  {
   "cell_type": "code",
   "execution_count": 25,
   "metadata": {},
   "outputs": [
    {
     "data": {
      "text/html": [
       "<div>\n",
       "<style scoped>\n",
       "    .dataframe tbody tr th:only-of-type {\n",
       "        vertical-align: middle;\n",
       "    }\n",
       "\n",
       "    .dataframe tbody tr th {\n",
       "        vertical-align: top;\n",
       "    }\n",
       "\n",
       "    .dataframe thead th {\n",
       "        text-align: right;\n",
       "    }\n",
       "</style>\n",
       "<table border=\"1\" class=\"dataframe\">\n",
       "  <thead>\n",
       "    <tr style=\"text-align: right;\">\n",
       "      <th></th>\n",
       "      <th>Total</th>\n",
       "      <th>Percent</th>\n",
       "    </tr>\n",
       "  </thead>\n",
       "  <tbody>\n",
       "    <tr>\n",
       "      <th>HighestPositionHeld</th>\n",
       "      <td>0</td>\n",
       "      <td>0.0</td>\n",
       "    </tr>\n",
       "    <tr>\n",
       "      <th>TeamLaunch</th>\n",
       "      <td>0</td>\n",
       "      <td>0.0</td>\n",
       "    </tr>\n",
       "    <tr>\n",
       "      <th>Runner-up</th>\n",
       "      <td>0</td>\n",
       "      <td>0.0</td>\n",
       "    </tr>\n",
       "    <tr>\n",
       "      <th>TournamentChampion</th>\n",
       "      <td>0</td>\n",
       "      <td>0.0</td>\n",
       "    </tr>\n",
       "    <tr>\n",
       "      <th>BasketGiven</th>\n",
       "      <td>0</td>\n",
       "      <td>0.0</td>\n",
       "    </tr>\n",
       "    <tr>\n",
       "      <th>BasketScored</th>\n",
       "      <td>0</td>\n",
       "      <td>0.0</td>\n",
       "    </tr>\n",
       "    <tr>\n",
       "      <th>LostGames</th>\n",
       "      <td>0</td>\n",
       "      <td>0.0</td>\n",
       "    </tr>\n",
       "    <tr>\n",
       "      <th>DrawnGames</th>\n",
       "      <td>0</td>\n",
       "      <td>0.0</td>\n",
       "    </tr>\n",
       "    <tr>\n",
       "      <th>WonGames</th>\n",
       "      <td>0</td>\n",
       "      <td>0.0</td>\n",
       "    </tr>\n",
       "    <tr>\n",
       "      <th>PlayedGames</th>\n",
       "      <td>0</td>\n",
       "      <td>0.0</td>\n",
       "    </tr>\n",
       "    <tr>\n",
       "      <th>Score</th>\n",
       "      <td>0</td>\n",
       "      <td>0.0</td>\n",
       "    </tr>\n",
       "    <tr>\n",
       "      <th>Tournament</th>\n",
       "      <td>0</td>\n",
       "      <td>0.0</td>\n",
       "    </tr>\n",
       "    <tr>\n",
       "      <th>Team</th>\n",
       "      <td>0</td>\n",
       "      <td>0.0</td>\n",
       "    </tr>\n",
       "  </tbody>\n",
       "</table>\n",
       "</div>"
      ],
      "text/plain": [
       "                     Total  Percent\n",
       "HighestPositionHeld      0      0.0\n",
       "TeamLaunch               0      0.0\n",
       "Runner-up                0      0.0\n",
       "TournamentChampion       0      0.0\n",
       "BasketGiven              0      0.0\n",
       "BasketScored             0      0.0\n",
       "LostGames                0      0.0\n",
       "DrawnGames               0      0.0\n",
       "WonGames                 0      0.0\n",
       "PlayedGames              0      0.0\n",
       "Score                    0      0.0\n",
       "Tournament               0      0.0\n",
       "Team                     0      0.0"
      ]
     },
     "execution_count": 25,
     "metadata": {},
     "output_type": "execute_result"
    }
   ],
   "source": [
    "def missing_check(df):\n",
    "    total = df.isnull().sum().sort_values(ascending=False)   # total number of null values\n",
    "    percent = (df.isnull().sum()/df.isnull().count()).sort_values(ascending=False)  # percentage of values that are null\n",
    "    missing_Basketball = pd.concat([total, percent], axis=1, keys=['Total', 'Percent'])  # putting the above two together\n",
    "    return missing_Basketball # return the dataframe\n",
    "missing_check(Basketball)"
   ]
  },
  {
   "cell_type": "code",
   "execution_count": 26,
   "metadata": {},
   "outputs": [
    {
     "data": {
      "text/html": [
       "<div>\n",
       "<style scoped>\n",
       "    .dataframe tbody tr th:only-of-type {\n",
       "        vertical-align: middle;\n",
       "    }\n",
       "\n",
       "    .dataframe tbody tr th {\n",
       "        vertical-align: top;\n",
       "    }\n",
       "\n",
       "    .dataframe thead th {\n",
       "        text-align: right;\n",
       "    }\n",
       "</style>\n",
       "<table border=\"1\" class=\"dataframe\">\n",
       "  <thead>\n",
       "    <tr style=\"text-align: right;\">\n",
       "      <th></th>\n",
       "      <th>WonGames</th>\n",
       "      <th>DrawnGames</th>\n",
       "      <th>LostGames</th>\n",
       "      <th>Runner-up</th>\n",
       "    </tr>\n",
       "  </thead>\n",
       "  <tbody>\n",
       "    <tr>\n",
       "      <th>count</th>\n",
       "      <td>61</td>\n",
       "      <td>61</td>\n",
       "      <td>61</td>\n",
       "      <td>61</td>\n",
       "    </tr>\n",
       "    <tr>\n",
       "      <th>unique</th>\n",
       "      <td>59</td>\n",
       "      <td>57</td>\n",
       "      <td>56</td>\n",
       "      <td>10</td>\n",
       "    </tr>\n",
       "    <tr>\n",
       "      <th>top</th>\n",
       "      <td>8</td>\n",
       "      <td>14</td>\n",
       "      <td>37</td>\n",
       "      <td>-</td>\n",
       "    </tr>\n",
       "    <tr>\n",
       "      <th>freq</th>\n",
       "      <td>2</td>\n",
       "      <td>2</td>\n",
       "      <td>3</td>\n",
       "      <td>48</td>\n",
       "    </tr>\n",
       "  </tbody>\n",
       "</table>\n",
       "</div>"
      ],
      "text/plain": [
       "       WonGames DrawnGames LostGames Runner-up\n",
       "count        61         61        61        61\n",
       "unique       59         57        56        10\n",
       "top           8         14        37         -\n",
       "freq          2          2         3        48"
      ]
     },
     "execution_count": 26,
     "metadata": {},
     "output_type": "execute_result"
    }
   ],
   "source": [
    "Basketball[['WonGames','DrawnGames','LostGames','Runner-up']].describe() #descriptive stats of continous columns"
   ]
  },
  {
   "cell_type": "code",
   "execution_count": 27,
   "metadata": {},
   "outputs": [
    {
     "data": {
      "text/html": [
       "<div>\n",
       "<style scoped>\n",
       "    .dataframe tbody tr th:only-of-type {\n",
       "        vertical-align: middle;\n",
       "    }\n",
       "\n",
       "    .dataframe tbody tr th {\n",
       "        vertical-align: top;\n",
       "    }\n",
       "\n",
       "    .dataframe thead th {\n",
       "        text-align: right;\n",
       "    }\n",
       "</style>\n",
       "<table border=\"1\" class=\"dataframe\">\n",
       "  <thead>\n",
       "    <tr style=\"text-align: right;\">\n",
       "      <th></th>\n",
       "      <th>PlayedGames</th>\n",
       "      <th>DrawnGames</th>\n",
       "      <th>LostGames</th>\n",
       "      <th>Runner-up</th>\n",
       "    </tr>\n",
       "  </thead>\n",
       "  <tbody>\n",
       "    <tr>\n",
       "      <th>count</th>\n",
       "      <td>61</td>\n",
       "      <td>61</td>\n",
       "      <td>61</td>\n",
       "      <td>61</td>\n",
       "    </tr>\n",
       "    <tr>\n",
       "      <th>unique</th>\n",
       "      <td>53</td>\n",
       "      <td>57</td>\n",
       "      <td>56</td>\n",
       "      <td>10</td>\n",
       "    </tr>\n",
       "    <tr>\n",
       "      <th>top</th>\n",
       "      <td>2762</td>\n",
       "      <td>14</td>\n",
       "      <td>37</td>\n",
       "      <td>-</td>\n",
       "    </tr>\n",
       "    <tr>\n",
       "      <th>freq</th>\n",
       "      <td>3</td>\n",
       "      <td>2</td>\n",
       "      <td>3</td>\n",
       "      <td>48</td>\n",
       "    </tr>\n",
       "  </tbody>\n",
       "</table>\n",
       "</div>"
      ],
      "text/plain": [
       "       PlayedGames DrawnGames LostGames Runner-up\n",
       "count           61         61        61        61\n",
       "unique          53         57        56        10\n",
       "top           2762         14        37         -\n",
       "freq             3          2         3        48"
      ]
     },
     "execution_count": 27,
     "metadata": {},
     "output_type": "execute_result"
    }
   ],
   "source": [
    "Basketball[['PlayedGames','DrawnGames','LostGames','Runner-up']].describe() #descriptive stats of continous columns"
   ]
  },
  {
   "cell_type": "markdown",
   "metadata": {},
   "source": [
    "# <span style=\"font-family: Arial; font-weight:bold;font-size:1.9em;color:#0e92ea\"> Multivariate analysis"
   ]
  },
  {
   "cell_type": "markdown",
   "metadata": {},
   "source": [
    "<font color=darkblue>\n",
    "    \n",
    "#### Multivariate analysis is performed to understand interactions between different fields in the dataset (or) finding interactions between variables more than 2\n",
    "#### ex: Pairplot, 3D scatter plot"
   ]
  },
  {
   "cell_type": "markdown",
   "metadata": {},
   "source": [
    "#### <span style=\"font-family: Arial; font-weight:bold;font-size:1.9em;color:#0e92ea\"> Scatter Plot\n"
   ]
  },
  {
   "cell_type": "code",
   "execution_count": 24,
   "metadata": {},
   "outputs": [
    {
     "data": {
      "text/html": [
       "<div>\n",
       "<style scoped>\n",
       "    .dataframe tbody tr th:only-of-type {\n",
       "        vertical-align: middle;\n",
       "    }\n",
       "\n",
       "    .dataframe tbody tr th {\n",
       "        vertical-align: top;\n",
       "    }\n",
       "\n",
       "    .dataframe thead th {\n",
       "        text-align: right;\n",
       "    }\n",
       "</style>\n",
       "<table border=\"1\" class=\"dataframe\">\n",
       "  <thead>\n",
       "    <tr style=\"text-align: right;\">\n",
       "      <th></th>\n",
       "      <th>Team</th>\n",
       "      <th>Tournament</th>\n",
       "      <th>Score</th>\n",
       "      <th>PlayedGames</th>\n",
       "      <th>WonGames</th>\n",
       "      <th>DrawnGames</th>\n",
       "      <th>LostGames</th>\n",
       "      <th>BasketScored</th>\n",
       "      <th>BasketGiven</th>\n",
       "      <th>TournamentChampion</th>\n",
       "      <th>Runner-up</th>\n",
       "      <th>TeamLaunch</th>\n",
       "      <th>HighestPositionHeld</th>\n",
       "    </tr>\n",
       "  </thead>\n",
       "  <tbody>\n",
       "    <tr>\n",
       "      <th>0</th>\n",
       "      <td>Team 1</td>\n",
       "      <td>86</td>\n",
       "      <td>4385</td>\n",
       "      <td>2762</td>\n",
       "      <td>1647</td>\n",
       "      <td>552</td>\n",
       "      <td>563</td>\n",
       "      <td>5947</td>\n",
       "      <td>3140</td>\n",
       "      <td>33</td>\n",
       "      <td>23</td>\n",
       "      <td>1929</td>\n",
       "      <td>1</td>\n",
       "    </tr>\n",
       "    <tr>\n",
       "      <th>1</th>\n",
       "      <td>Team 2</td>\n",
       "      <td>86</td>\n",
       "      <td>4262</td>\n",
       "      <td>2762</td>\n",
       "      <td>1581</td>\n",
       "      <td>573</td>\n",
       "      <td>608</td>\n",
       "      <td>5900</td>\n",
       "      <td>3114</td>\n",
       "      <td>25</td>\n",
       "      <td>25</td>\n",
       "      <td>1929</td>\n",
       "      <td>1</td>\n",
       "    </tr>\n",
       "    <tr>\n",
       "      <th>2</th>\n",
       "      <td>Team 3</td>\n",
       "      <td>80</td>\n",
       "      <td>3442</td>\n",
       "      <td>2614</td>\n",
       "      <td>1241</td>\n",
       "      <td>598</td>\n",
       "      <td>775</td>\n",
       "      <td>4534</td>\n",
       "      <td>3309</td>\n",
       "      <td>10</td>\n",
       "      <td>8</td>\n",
       "      <td>1929</td>\n",
       "      <td>1</td>\n",
       "    </tr>\n",
       "    <tr>\n",
       "      <th>3</th>\n",
       "      <td>Team 4</td>\n",
       "      <td>82</td>\n",
       "      <td>3386</td>\n",
       "      <td>2664</td>\n",
       "      <td>1187</td>\n",
       "      <td>616</td>\n",
       "      <td>861</td>\n",
       "      <td>4398</td>\n",
       "      <td>3469</td>\n",
       "      <td>6</td>\n",
       "      <td>6</td>\n",
       "      <td>1931to32</td>\n",
       "      <td>1</td>\n",
       "    </tr>\n",
       "    <tr>\n",
       "      <th>4</th>\n",
       "      <td>Team 5</td>\n",
       "      <td>86</td>\n",
       "      <td>3368</td>\n",
       "      <td>2762</td>\n",
       "      <td>1209</td>\n",
       "      <td>633</td>\n",
       "      <td>920</td>\n",
       "      <td>4631</td>\n",
       "      <td>3700</td>\n",
       "      <td>8</td>\n",
       "      <td>7</td>\n",
       "      <td>1929</td>\n",
       "      <td>1</td>\n",
       "    </tr>\n",
       "  </tbody>\n",
       "</table>\n",
       "</div>"
      ],
      "text/plain": [
       "     Team  Tournament Score PlayedGames WonGames DrawnGames LostGames  \\\n",
       "0  Team 1          86  4385        2762     1647        552       563   \n",
       "1  Team 2          86  4262        2762     1581        573       608   \n",
       "2  Team 3          80  3442        2614     1241        598       775   \n",
       "3  Team 4          82  3386        2664     1187        616       861   \n",
       "4  Team 5          86  3368        2762     1209        633       920   \n",
       "\n",
       "  BasketScored BasketGiven TournamentChampion Runner-up TeamLaunch  \\\n",
       "0         5947        3140                 33        23       1929   \n",
       "1         5900        3114                 25        25       1929   \n",
       "2         4534        3309                 10         8       1929   \n",
       "3         4398        3469                  6         6   1931to32   \n",
       "4         4631        3700                  8         7       1929   \n",
       "\n",
       "   HighestPositionHeld  \n",
       "0                    1  \n",
       "1                    1  \n",
       "2                    1  \n",
       "3                    1  \n",
       "4                    1  "
      ]
     },
     "execution_count": 24,
     "metadata": {},
     "output_type": "execute_result"
    }
   ],
   "source": [
    "Basketball = pd.read_csv('DS - Part2 - Basketball.csv')\n",
    "Basketball.head()"
   ]
  },
  {
   "cell_type": "code",
   "execution_count": 25,
   "metadata": {},
   "outputs": [],
   "source": [
    "Basketball = Basketball.dropna()"
   ]
  },
  {
   "cell_type": "code",
   "execution_count": 26,
   "metadata": {},
   "outputs": [
    {
     "data": {
      "text/plain": [
       "<seaborn.axisgrid.PairGrid at 0x24e27da63a0>"
      ]
     },
     "execution_count": 26,
     "metadata": {},
     "output_type": "execute_result"
    },
    {
     "data": {
      "image/png": "[encoded data removed]",
      "text/plain": [
       "<Figure size 360x360 with 6 Axes>"
      ]
     },
     "metadata": {
      "needs_background": "light"
     },
     "output_type": "display_data"
    }
   ],
   "source": [
    "sns.pairplot(Basketball)"
   ]
  },
  {
   "cell_type": "code",
   "execution_count": 27,
   "metadata": {},
   "outputs": [
    {
     "data": {
      "text/plain": [
       "<AxesSubplot:xlabel='WonGames', ylabel='LostGames'>"
      ]
     },
     "execution_count": 27,
     "metadata": {},
     "output_type": "execute_result"
    },
    {
     "data": {
      "image/png": "[encoded data removed]",
      "text/plain": [
       "<Figure size 432x288 with 1 Axes>"
      ]
     },
     "metadata": {
      "needs_background": "light"
     },
     "output_type": "display_data"
    }
   ],
   "source": [
    "sns.scatterplot(Basketball['WonGames'],Basketball['LostGames'])\n"
   ]
  },
  {
   "cell_type": "code",
   "execution_count": 52,
   "metadata": {},
   "outputs": [
    {
     "data": {
      "text/html": [
       "<div>\n",
       "<style scoped>\n",
       "    .dataframe tbody tr th:only-of-type {\n",
       "        vertical-align: middle;\n",
       "    }\n",
       "\n",
       "    .dataframe tbody tr th {\n",
       "        vertical-align: top;\n",
       "    }\n",
       "\n",
       "    .dataframe thead th {\n",
       "        text-align: right;\n",
       "    }\n",
       "</style>\n",
       "<table border=\"1\" class=\"dataframe\">\n",
       "  <thead>\n",
       "    <tr style=\"text-align: right;\">\n",
       "      <th></th>\n",
       "      <th>Tournament</th>\n",
       "      <th>HighestPositionHeld</th>\n",
       "    </tr>\n",
       "  </thead>\n",
       "  <tbody>\n",
       "    <tr>\n",
       "      <th>Tournament</th>\n",
       "      <td>1.000000</td>\n",
       "      <td>-0.708071</td>\n",
       "    </tr>\n",
       "    <tr>\n",
       "      <th>HighestPositionHeld</th>\n",
       "      <td>-0.708071</td>\n",
       "      <td>1.000000</td>\n",
       "    </tr>\n",
       "  </tbody>\n",
       "</table>\n",
       "</div>"
      ],
      "text/plain": [
       "                     Tournament  HighestPositionHeld\n",
       "Tournament             1.000000            -0.708071\n",
       "HighestPositionHeld   -0.708071             1.000000"
      ]
     },
     "execution_count": 52,
     "metadata": {},
     "output_type": "execute_result"
    }
   ],
   "source": [
    "Basketball.corr()   # displays the correlation between every possible pair of attributes as a dataframe"
   ]
  },
  {
   "cell_type": "code",
   "execution_count": 53,
   "metadata": {},
   "outputs": [
    {
     "data": {
      "text/plain": [
       "<AxesSubplot:>"
      ]
     },
     "execution_count": 53,
     "metadata": {},
     "output_type": "execute_result"
    },
    {
     "data": {
      "image/png": "[encoded data removed]",
      "text/plain": [
       "<Figure size 432x288 with 2 Axes>"
      ]
     },
     "metadata": {
      "needs_background": "light"
     },
     "output_type": "display_data"
    }
   ],
   "source": [
    "sns.heatmap(Basketball.corr(), annot=True)  # plot the correlation coefficients as a heatmap"
   ]
  },
  {
   "cell_type": "code",
   "execution_count": 55,
   "metadata": {},
   "outputs": [
    {
     "data": {
      "text/plain": [
       "<AxesSubplot:xlabel='HighestPositionHeld', ylabel='Team'>"
      ]
     },
     "execution_count": 55,
     "metadata": {},
     "output_type": "execute_result"
    },
    {
     "data": {
      "image/png": "[encoded data removed]",
      "text/plain": [
       "<Figure size 432x288 with 1 Axes>"
      ]
     },
     "metadata": {
      "needs_background": "light"
     },
     "output_type": "display_data"
    }
   ],
   "source": [
    "sns.scatterplot(Basketball['HighestPositionHeld'], Basketball['Team'], hue=Basketball['WonGames'], palette='Set2') "
   ]
  },
  {
   "cell_type": "code",
   "execution_count": 58,
   "metadata": {},
   "outputs": [
    {
     "data": {
      "text/plain": [
       "<seaborn.axisgrid.PairGrid at 0x2710eff2760>"
      ]
     },
     "execution_count": 58,
     "metadata": {},
     "output_type": "execute_result"
    },
    {
     "data": {
      "image/png": "[encoded data removed]",
      "text/plain": [
       "<Figure size 180x180 with 2 Axes>"
      ]
     },
     "metadata": {
      "needs_background": "light"
     },
     "output_type": "display_data"
    }
   ],
   "source": [
    "sns.pairplot(Basketball[['Tournament','PlayedGames','DrawnGames','BasketScored','BasketGiven']])"
   ]
  },
  {
   "cell_type": "markdown",
   "metadata": {},
   "source": [
    "# PART :-3"
   ]
  },
  {
   "cell_type": "markdown",
   "metadata": {},
   "source": [
    "# Context:\n",
    "company X is a EU online publisher focusing on the startups industry.the company specifically reports on the business related to \n",
    "technology news,analysis of emerging trends and profiling of new tech businesses and product.and their events i.e.stratup battlefield is the\n",
    "world's pre-eminent startup competation.startup battlefield features 15-30 topearl stage startups pitching top judges in fornt of a vast live\n",
    "audience,present in person and online \n",
    "# Data description:\n",
    "companyX_EU.CSV- Each row in the dataset is a start-up company and the columns describe the company.ATTRIBUTE INFORMATION\n",
    "**Startup**:Name of the company\n",
    "**Product**:Actual produt\n",
    "**Funding**:Funds raised by the company in USD\n",
    "**Event**:The event the company participated in\n",
    "**Result**:Described by contestant ,Finalist,Audiencchoice,winner or runner up\n",
    "**Operatingstate**:Current status of the company operating ,closed, Acquiredor IPO\n",
    "\n",
    "\n",
    "\n",
    "\n",
    "#PROJECT OBJECTIVE: Analyse the data of the various companies from the given dataset and perform the tasks that are specified in the \n",
    "below steps.Draw insights from the various attributes that are present in the dataset,plot distributions, state hypotheses and draw\n",
    "conclusions from the dataset\n",
    "\n",
    "# Tasks:\n",
    "**1) Data ware house:\n",
    "    \n",
    "**2) Data exploration:\n",
    "    \n",
    "**3)data preprocessing & visuaalisation:\n",
    "    \n",
    "**4)statistical analysis:\n",
    "\n"
   ]
  },
  {
   "cell_type": "code",
   "execution_count": 30,
   "metadata": {},
   "outputs": [],
   "source": [
    "# Import the dataset"
   ]
  },
  {
   "cell_type": "code",
   "execution_count": 31,
   "metadata": {
    "scrolled": true
   },
   "outputs": [
    {
     "name": "stdout",
     "output_type": "stream",
     "text": [
      "(662, 6)\n"
     ]
    },
    {
     "data": {
      "text/html": [
       "<div>\n",
       "<style scoped>\n",
       "    .dataframe tbody tr th:only-of-type {\n",
       "        vertical-align: middle;\n",
       "    }\n",
       "\n",
       "    .dataframe tbody tr th {\n",
       "        vertical-align: top;\n",
       "    }\n",
       "\n",
       "    .dataframe thead th {\n",
       "        text-align: right;\n",
       "    }\n",
       "</style>\n",
       "<table border=\"1\" class=\"dataframe\">\n",
       "  <thead>\n",
       "    <tr style=\"text-align: right;\">\n",
       "      <th></th>\n",
       "      <th>Startup</th>\n",
       "      <th>Product</th>\n",
       "      <th>Funding</th>\n",
       "      <th>Event</th>\n",
       "      <th>Result</th>\n",
       "      <th>OperatingState</th>\n",
       "    </tr>\n",
       "  </thead>\n",
       "  <tbody>\n",
       "    <tr>\n",
       "      <th>0</th>\n",
       "      <td>2600Hz</td>\n",
       "      <td>2600hz.com</td>\n",
       "      <td>NaN</td>\n",
       "      <td>Disrupt SF 2013</td>\n",
       "      <td>Contestant</td>\n",
       "      <td>Operating</td>\n",
       "    </tr>\n",
       "    <tr>\n",
       "      <th>1</th>\n",
       "      <td>3DLT</td>\n",
       "      <td>3dlt.com</td>\n",
       "      <td>$630K</td>\n",
       "      <td>Disrupt NYC 2013</td>\n",
       "      <td>Contestant</td>\n",
       "      <td>Closed</td>\n",
       "    </tr>\n",
       "    <tr>\n",
       "      <th>2</th>\n",
       "      <td>3DPrinterOS</td>\n",
       "      <td>3dprinteros.com</td>\n",
       "      <td>NaN</td>\n",
       "      <td>Disrupt SF 2016</td>\n",
       "      <td>Contestant</td>\n",
       "      <td>Operating</td>\n",
       "    </tr>\n",
       "    <tr>\n",
       "      <th>3</th>\n",
       "      <td>3Dprintler</td>\n",
       "      <td>3dprintler.com</td>\n",
       "      <td>$1M</td>\n",
       "      <td>Disrupt NY 2016</td>\n",
       "      <td>Audience choice</td>\n",
       "      <td>Operating</td>\n",
       "    </tr>\n",
       "    <tr>\n",
       "      <th>4</th>\n",
       "      <td>42 Technologies</td>\n",
       "      <td>42technologies.com</td>\n",
       "      <td>NaN</td>\n",
       "      <td>Disrupt NYC 2013</td>\n",
       "      <td>Contestant</td>\n",
       "      <td>Operating</td>\n",
       "    </tr>\n",
       "  </tbody>\n",
       "</table>\n",
       "</div>"
      ],
      "text/plain": [
       "           Startup             Product Funding             Event  \\\n",
       "0           2600Hz          2600hz.com     NaN   Disrupt SF 2013   \n",
       "1             3DLT            3dlt.com   $630K  Disrupt NYC 2013   \n",
       "2      3DPrinterOS     3dprinteros.com     NaN   Disrupt SF 2016   \n",
       "3       3Dprintler      3dprintler.com     $1M   Disrupt NY 2016   \n",
       "4  42 Technologies  42technologies.com     NaN  Disrupt NYC 2013   \n",
       "\n",
       "            Result OperatingState  \n",
       "0       Contestant      Operating  \n",
       "1       Contestant         Closed  \n",
       "2       Contestant      Operating  \n",
       "3  Audience choice      Operating  \n",
       "4       Contestant      Operating  "
      ]
     },
     "execution_count": 31,
     "metadata": {},
     "output_type": "execute_result"
    }
   ],
   "source": [
    "import pandas  as pd\n",
    "%matplotlib inline\n",
    "from matplotlib import pyplot as plt\n",
    "import seaborn as sns\n",
    "from statsmodels.stats.weightstats import ztest\n",
    "from scipy.stats import ttest_ind\n",
    "from statsmodels.stats.proportion import proportions_chisquare\n",
    "from scipy.stats import f_oneway\n",
    "\n",
    "company = pd.read_csv('CompanyX_EU.csv')\n",
    "print(company.shape)\n",
    "company.head()"
   ]
  },
  {
   "cell_type": "markdown",
   "metadata": {},
   "source": [
    "# Explore the data"
   ]
  },
  {
   "cell_type": "code",
   "execution_count": 32,
   "metadata": {
    "scrolled": true
   },
   "outputs": [
    {
     "data": {
      "text/plain": [
       "Startup           object\n",
       "Product           object\n",
       "Funding           object\n",
       "Event             object\n",
       "Result            object\n",
       "OperatingState    object\n",
       "dtype: object"
      ]
     },
     "execution_count": 32,
     "metadata": {},
     "output_type": "execute_result"
    }
   ],
   "source": [
    "company.dtypes"
   ]
  },
  {
   "cell_type": "markdown",
   "metadata": {},
   "source": [
    "- All the columns are of object type \n",
    "- However, we would need the column \"Funds Raised\" to be of numerical data type\n",
    "- We shall treat that later"
   ]
  },
  {
   "cell_type": "code",
   "execution_count": 37,
   "metadata": {},
   "outputs": [
    {
     "data": {
      "text/plain": [
       "Startup             0\n",
       "Product             6\n",
       "Funding           214\n",
       "Event               0\n",
       "Result              0\n",
       "OperatingState      0\n",
       "dtype: int64"
      ]
     },
     "execution_count": 37,
     "metadata": {},
     "output_type": "execute_result"
    }
   ],
   "source": [
    "company.isna().sum()"
   ]
  },
  {
   "cell_type": "markdown",
   "metadata": {},
   "source": [
    " Turns out we do not have company of funding by all the companies\n",
    "- We would need need it to perform the first task, hence we will have to ignore the companies of which we do not have company for the funds they raised"
   ]
  },
  {
   "cell_type": "code",
   "execution_count": 57,
   "metadata": {},
   "outputs": [],
   "source": [
    "df1= company.dropna().copy(deep=True)   # drop the rows which have no company for funding"
   ]
  },
  {
   "cell_type": "code",
   "execution_count": 59,
   "metadata": {},
   "outputs": [
    {
     "data": {
      "text/plain": [
       "31        $24M\n",
       "447      $7.4M\n",
       "40      $50.9M\n",
       "330      $9.2M\n",
       "214    $755.9K\n",
       "Name: Funding, dtype: object"
      ]
     },
     "execution_count": 59,
     "metadata": {},
     "output_type": "execute_result"
    }
   ],
   "source": [
    "df1['Funding'].sample(5)"
   ]
  },
  {
   "cell_type": "markdown",
   "metadata": {},
   "source": [
    "- We do not have absolute numbers to directly use in our tests\n",
    "- The values need some pre-processing\n",
    "- We will strip the values of the dollar sign and the abbreviations\n",
    "- First we will have to check all the various abbreviations that the numbers are represented by, then based on the abbreviation we have to bring those numbers on the same scale"
   ]
  },
  {
   "cell_type": "code",
   "execution_count": 61,
   "metadata": {},
   "outputs": [],
   "source": [
    "df1.loc[:,'Funding_in_million'] = df1['Funding'].apply(lambda x: float(x[1:-1])/1000 if x[-1] == 'K' else (float(x[1:-1])*1000 if x[-1] == 'B' else float(x[1:-1])))"
   ]
  },
  {
   "cell_type": "code",
   "execution_count": 62,
   "metadata": {},
   "outputs": [
    {
     "data": {
      "text/html": [
       "<div>\n",
       "<style scoped>\n",
       "    .dataframe tbody tr th:only-of-type {\n",
       "        vertical-align: middle;\n",
       "    }\n",
       "\n",
       "    .dataframe tbody tr th {\n",
       "        vertical-align: top;\n",
       "    }\n",
       "\n",
       "    .dataframe thead th {\n",
       "        text-align: right;\n",
       "    }\n",
       "</style>\n",
       "<table border=\"1\" class=\"dataframe\">\n",
       "  <thead>\n",
       "    <tr style=\"text-align: right;\">\n",
       "      <th></th>\n",
       "      <th>Startup</th>\n",
       "      <th>Product</th>\n",
       "      <th>Funding</th>\n",
       "      <th>Event</th>\n",
       "      <th>Result</th>\n",
       "      <th>OperatingState</th>\n",
       "      <th>Funding_in_million</th>\n",
       "    </tr>\n",
       "  </thead>\n",
       "  <tbody>\n",
       "    <tr>\n",
       "      <th>184</th>\n",
       "      <td>Fidesmo</td>\n",
       "      <td>fidesmo.com</td>\n",
       "      <td>$790.6K</td>\n",
       "      <td>Disrupt NYC 2014</td>\n",
       "      <td>Contestant</td>\n",
       "      <td>Operating</td>\n",
       "      <td>0.7906</td>\n",
       "    </tr>\n",
       "    <tr>\n",
       "      <th>141</th>\n",
       "      <td>Desmos</td>\n",
       "      <td>desmos.com</td>\n",
       "      <td>$900K</td>\n",
       "      <td>Disrupt NYC 2011</td>\n",
       "      <td>Contestant</td>\n",
       "      <td>Operating</td>\n",
       "      <td>0.9000</td>\n",
       "    </tr>\n",
       "    <tr>\n",
       "      <th>59</th>\n",
       "      <td>BioBots</td>\n",
       "      <td>biobots.io</td>\n",
       "      <td>$2.8M</td>\n",
       "      <td>Disrupt NY 2015</td>\n",
       "      <td>Finalist</td>\n",
       "      <td>Operating</td>\n",
       "      <td>2.8000</td>\n",
       "    </tr>\n",
       "  </tbody>\n",
       "</table>\n",
       "</div>"
      ],
      "text/plain": [
       "     Startup      Product  Funding             Event      Result  \\\n",
       "184  Fidesmo  fidesmo.com  $790.6K  Disrupt NYC 2014  Contestant   \n",
       "141   Desmos   desmos.com    $900K  Disrupt NYC 2011  Contestant   \n",
       "59   BioBots   biobots.io    $2.8M   Disrupt NY 2015    Finalist   \n",
       "\n",
       "    OperatingState  Funding_in_million  \n",
       "184      Operating              0.7906  \n",
       "141      Operating              0.9000  \n",
       "59       Operating              2.8000  "
      ]
     },
     "execution_count": 62,
     "metadata": {},
     "output_type": "execute_result"
    }
   ],
   "source": [
    "df1.sample(3)"
   ]
  },
  {
   "cell_type": "markdown",
   "metadata": {},
   "source": [
    "- Run the above cell a couple of times to quickly verify the values\n",
    "- We have brought the data to a usable form for analysis\n"
   ]
  },
  {
   "cell_type": "code",
   "execution_count": 67,
   "metadata": {},
   "outputs": [
    {
     "data": {
      "image/png": "[encoded data removed]",
      "text/plain": [
       "<Figure size 432x288 with 1 Axes>"
      ]
     },
     "metadata": {
      "needs_background": "light"
     },
     "output_type": "display_data"
    }
   ],
   "source": [
    "%matplotlib inline\n",
    "from matplotlib import pyplot as plt\n",
    "\n",
    "plot = plt.boxplot(df1.Funding_in_million)\n",
    "plt.title('Boxplot of the funding')\n",
    "plt.ylabel(\"Funding(in Million)\")\n",
    "\n",
    "plt.show()"
   ]
  },
  {
   "cell_type": "markdown",
   "metadata": {},
   "source": [
    "- There are significant outliers in the data\n",
    "- For the purpose of this test, we shall remove them"
   ]
  },
  {
   "cell_type": "code",
   "execution_count": 70,
   "metadata": {},
   "outputs": [
    {
     "data": {
      "text/plain": [
       "22.0"
      ]
     },
     "execution_count": 70,
     "metadata": {},
     "output_type": "execute_result"
    }
   ],
   "source": [
    "upper_fence = plot['caps'][1].get_data()[1][1]   # we can use the values from the box plot itself to get the upper fence\n",
    "upper_fence"
   ]
  },
  {
   "cell_type": "code",
   "execution_count": 72,
   "metadata": {},
   "outputs": [
    {
     "name": "stdout",
     "output_type": "stream",
     "text": [
      "Number of outliers = 60\n"
     ]
    },
    {
     "data": {
      "text/html": [
       "<div>\n",
       "<style scoped>\n",
       "    .dataframe tbody tr th:only-of-type {\n",
       "        vertical-align: middle;\n",
       "    }\n",
       "\n",
       "    .dataframe tbody tr th {\n",
       "        vertical-align: top;\n",
       "    }\n",
       "\n",
       "    .dataframe thead th {\n",
       "        text-align: right;\n",
       "    }\n",
       "</style>\n",
       "<table border=\"1\" class=\"dataframe\">\n",
       "  <thead>\n",
       "    <tr style=\"text-align: right;\">\n",
       "      <th></th>\n",
       "      <th>Startup</th>\n",
       "      <th>Product</th>\n",
       "      <th>Funding</th>\n",
       "      <th>Event</th>\n",
       "      <th>Result</th>\n",
       "      <th>OperatingState</th>\n",
       "      <th>Funding_in_million</th>\n",
       "    </tr>\n",
       "  </thead>\n",
       "  <tbody>\n",
       "    <tr>\n",
       "      <th>6</th>\n",
       "      <td>8 Securities</td>\n",
       "      <td>8securities.com</td>\n",
       "      <td>$29M</td>\n",
       "      <td>Disrupt Beijing 2011</td>\n",
       "      <td>Finalist</td>\n",
       "      <td>Operating</td>\n",
       "      <td>29.0</td>\n",
       "    </tr>\n",
       "    <tr>\n",
       "      <th>31</th>\n",
       "      <td>Anyclip</td>\n",
       "      <td>anyclip.com</td>\n",
       "      <td>$24M</td>\n",
       "      <td>TC50 2009</td>\n",
       "      <td>Finalist</td>\n",
       "      <td>Operating</td>\n",
       "      <td>24.0</td>\n",
       "    </tr>\n",
       "    <tr>\n",
       "      <th>40</th>\n",
       "      <td>Artsy</td>\n",
       "      <td>artsy.net</td>\n",
       "      <td>$50.9M</td>\n",
       "      <td>Disrupt NYC 2010</td>\n",
       "      <td>Contestant</td>\n",
       "      <td>Operating</td>\n",
       "      <td>50.9</td>\n",
       "    </tr>\n",
       "    <tr>\n",
       "      <th>49</th>\n",
       "      <td>Badgeville</td>\n",
       "      <td>badgeville.com</td>\n",
       "      <td>$40M</td>\n",
       "      <td>Disrupt SF 2010</td>\n",
       "      <td>Finalist</td>\n",
       "      <td>Acquired</td>\n",
       "      <td>40.0</td>\n",
       "    </tr>\n",
       "    <tr>\n",
       "      <th>56</th>\n",
       "      <td>Betterment</td>\n",
       "      <td>betterment.com</td>\n",
       "      <td>$205M</td>\n",
       "      <td>Disrupt NYC 2010</td>\n",
       "      <td>Finalist</td>\n",
       "      <td>Operating</td>\n",
       "      <td>205.0</td>\n",
       "    </tr>\n",
       "    <tr>\n",
       "      <th>108</th>\n",
       "      <td>Clickable</td>\n",
       "      <td>clickable.com</td>\n",
       "      <td>$32.5M</td>\n",
       "      <td>TC40 2007</td>\n",
       "      <td>Finalist</td>\n",
       "      <td>Acquired</td>\n",
       "      <td>32.5</td>\n",
       "    </tr>\n",
       "    <tr>\n",
       "      <th>113</th>\n",
       "      <td>Cloudflare</td>\n",
       "      <td>cloudflare.com</td>\n",
       "      <td>$182.1M</td>\n",
       "      <td>Disrupt SF 2010</td>\n",
       "      <td>Runner up</td>\n",
       "      <td>Operating</td>\n",
       "      <td>182.1</td>\n",
       "    </tr>\n",
       "    <tr>\n",
       "      <th>128</th>\n",
       "      <td>Credit Sesame</td>\n",
       "      <td>creditsesame.com</td>\n",
       "      <td>$35.4M</td>\n",
       "      <td>Disrupt SF 2010</td>\n",
       "      <td>Contestant</td>\n",
       "      <td>Operating</td>\n",
       "      <td>35.4</td>\n",
       "    </tr>\n",
       "    <tr>\n",
       "      <th>130</th>\n",
       "      <td>CrowdFlower Inc.</td>\n",
       "      <td>crowdflower.com</td>\n",
       "      <td>$38M</td>\n",
       "      <td>TC50 2009</td>\n",
       "      <td>Contestant</td>\n",
       "      <td>Operating</td>\n",
       "      <td>38.0</td>\n",
       "    </tr>\n",
       "    <tr>\n",
       "      <th>132</th>\n",
       "      <td>Cubic Telecom</td>\n",
       "      <td>cubictelecom.com</td>\n",
       "      <td>$37.1M</td>\n",
       "      <td>TC40 2007</td>\n",
       "      <td>Contestant</td>\n",
       "      <td>Operating</td>\n",
       "      <td>37.1</td>\n",
       "    </tr>\n",
       "    <tr>\n",
       "      <th>138</th>\n",
       "      <td>DataSift</td>\n",
       "      <td>datasift.com</td>\n",
       "      <td>$72M</td>\n",
       "      <td>Disrupt SF 2010</td>\n",
       "      <td>Finalist</td>\n",
       "      <td>Operating</td>\n",
       "      <td>72.0</td>\n",
       "    </tr>\n",
       "    <tr>\n",
       "      <th>139</th>\n",
       "      <td>DataXu</td>\n",
       "      <td>dataxu.com</td>\n",
       "      <td>$64M</td>\n",
       "      <td>TC50 2009</td>\n",
       "      <td>Contestant</td>\n",
       "      <td>Operating</td>\n",
       "      <td>64.0</td>\n",
       "    </tr>\n",
       "    <tr>\n",
       "      <th>154</th>\n",
       "      <td>Dropbox</td>\n",
       "      <td>dropbox.com</td>\n",
       "      <td>$1.7B</td>\n",
       "      <td>TC50 2008</td>\n",
       "      <td>Contestant</td>\n",
       "      <td>Operating</td>\n",
       "      <td>1700.0</td>\n",
       "    </tr>\n",
       "    <tr>\n",
       "      <th>166</th>\n",
       "      <td>Enigma</td>\n",
       "      <td>enigma.io</td>\n",
       "      <td>$34.6M</td>\n",
       "      <td>Disrupt NYC 2013</td>\n",
       "      <td>Winner</td>\n",
       "      <td>Operating</td>\n",
       "      <td>34.6</td>\n",
       "    </tr>\n",
       "    <tr>\n",
       "      <th>172</th>\n",
       "      <td>EverythingMe</td>\n",
       "      <td>everything.me</td>\n",
       "      <td>$35.5M</td>\n",
       "      <td>Disrupt NYC 2011</td>\n",
       "      <td>Contestant</td>\n",
       "      <td>Closed</td>\n",
       "      <td>35.5</td>\n",
       "    </tr>\n",
       "    <tr>\n",
       "      <th>179</th>\n",
       "      <td>Famo.us</td>\n",
       "      <td>famo.us</td>\n",
       "      <td>$30.1M</td>\n",
       "      <td>Disrupt SF 2012</td>\n",
       "      <td>Contestant</td>\n",
       "      <td>Operating</td>\n",
       "      <td>30.1</td>\n",
       "    </tr>\n",
       "    <tr>\n",
       "      <th>180</th>\n",
       "      <td>Farmigo</td>\n",
       "      <td>farmigo.com</td>\n",
       "      <td>$26M</td>\n",
       "      <td>Disrupt SF 2011</td>\n",
       "      <td>Finalist</td>\n",
       "      <td>Operating</td>\n",
       "      <td>26.0</td>\n",
       "    </tr>\n",
       "    <tr>\n",
       "      <th>188</th>\n",
       "      <td>Fitbit</td>\n",
       "      <td>fitbit.com</td>\n",
       "      <td>$66M</td>\n",
       "      <td>TC50 2008</td>\n",
       "      <td>Finalist</td>\n",
       "      <td>Ipo</td>\n",
       "      <td>66.0</td>\n",
       "    </tr>\n",
       "    <tr>\n",
       "      <th>191</th>\n",
       "      <td>Flock</td>\n",
       "      <td>flock.com</td>\n",
       "      <td>$28.3M</td>\n",
       "      <td>TC40 2007</td>\n",
       "      <td>Contestant</td>\n",
       "      <td>Acquired</td>\n",
       "      <td>28.3</td>\n",
       "    </tr>\n",
       "    <tr>\n",
       "      <th>209</th>\n",
       "      <td>Getaround</td>\n",
       "      <td>getaround.com</td>\n",
       "      <td>$103M</td>\n",
       "      <td>Disrupt NYC 2011</td>\n",
       "      <td>Winner</td>\n",
       "      <td>Operating</td>\n",
       "      <td>103.0</td>\n",
       "    </tr>\n",
       "    <tr>\n",
       "      <th>213</th>\n",
       "      <td>Gild</td>\n",
       "      <td>gild.com</td>\n",
       "      <td>$25.9M</td>\n",
       "      <td>Disrupt SF 2010</td>\n",
       "      <td>Contestant</td>\n",
       "      <td>Acquired</td>\n",
       "      <td>25.9</td>\n",
       "    </tr>\n",
       "    <tr>\n",
       "      <th>215</th>\n",
       "      <td>Glide</td>\n",
       "      <td>glide.me</td>\n",
       "      <td>$36.5M</td>\n",
       "      <td>Disrupt NYC 2013</td>\n",
       "      <td>Audience choice</td>\n",
       "      <td>Operating</td>\n",
       "      <td>36.5</td>\n",
       "    </tr>\n",
       "    <tr>\n",
       "      <th>225</th>\n",
       "      <td>Grockit</td>\n",
       "      <td>grockit.com</td>\n",
       "      <td>$44.7M</td>\n",
       "      <td>TC50 2008</td>\n",
       "      <td>Finalist</td>\n",
       "      <td>Acquired</td>\n",
       "      <td>44.7</td>\n",
       "    </tr>\n",
       "    <tr>\n",
       "      <th>231</th>\n",
       "      <td>HackerRank</td>\n",
       "      <td>hackerrank.com</td>\n",
       "      <td>$24.2M</td>\n",
       "      <td>Disrupt SF 2012</td>\n",
       "      <td>Contestant</td>\n",
       "      <td>Operating</td>\n",
       "      <td>24.2</td>\n",
       "    </tr>\n",
       "    <tr>\n",
       "      <th>271</th>\n",
       "      <td>Ionic Security</td>\n",
       "      <td>ionicsecurity.com</td>\n",
       "      <td>$122.4M</td>\n",
       "      <td>Disrupt SF 2012</td>\n",
       "      <td>Contestant</td>\n",
       "      <td>Operating</td>\n",
       "      <td>122.4</td>\n",
       "    </tr>\n",
       "    <tr>\n",
       "      <th>276</th>\n",
       "      <td>IZEA</td>\n",
       "      <td>izea.com</td>\n",
       "      <td>$34.9M</td>\n",
       "      <td>Disrupt NYC 2010</td>\n",
       "      <td>Contestant</td>\n",
       "      <td>Ipo</td>\n",
       "      <td>34.9</td>\n",
       "    </tr>\n",
       "    <tr>\n",
       "      <th>279</th>\n",
       "      <td>Jiff</td>\n",
       "      <td>jiff.com</td>\n",
       "      <td>$67.8M</td>\n",
       "      <td>Disrupt SF 2011</td>\n",
       "      <td>Contestant</td>\n",
       "      <td>Acquired</td>\n",
       "      <td>67.8</td>\n",
       "    </tr>\n",
       "    <tr>\n",
       "      <th>282</th>\n",
       "      <td>Kaltura</td>\n",
       "      <td>kaltura.com</td>\n",
       "      <td>$166.1M</td>\n",
       "      <td>TC40 2007</td>\n",
       "      <td>Audience choice</td>\n",
       "      <td>Operating</td>\n",
       "      <td>166.1</td>\n",
       "    </tr>\n",
       "    <tr>\n",
       "      <th>302</th>\n",
       "      <td>Layer</td>\n",
       "      <td>layer.com</td>\n",
       "      <td>$42.1M</td>\n",
       "      <td>Disrupt SF 2013</td>\n",
       "      <td>Winner</td>\n",
       "      <td>Operating</td>\n",
       "      <td>42.1</td>\n",
       "    </tr>\n",
       "    <tr>\n",
       "      <th>305</th>\n",
       "      <td>LearnVest</td>\n",
       "      <td>learnvest.com</td>\n",
       "      <td>$69M</td>\n",
       "      <td>TC50 2009</td>\n",
       "      <td>Contestant</td>\n",
       "      <td>Acquired</td>\n",
       "      <td>69.0</td>\n",
       "    </tr>\n",
       "    <tr>\n",
       "      <th>313</th>\n",
       "      <td>LiveIntent</td>\n",
       "      <td>liveintent.com</td>\n",
       "      <td>$65.1M</td>\n",
       "      <td>Disrupt NYC 2010</td>\n",
       "      <td>Audience choice</td>\n",
       "      <td>Operating</td>\n",
       "      <td>65.1</td>\n",
       "    </tr>\n",
       "    <tr>\n",
       "      <th>325</th>\n",
       "      <td>Lystable</td>\n",
       "      <td>lystable.com</td>\n",
       "      <td>$25.1M</td>\n",
       "      <td>Disrupt London 2015</td>\n",
       "      <td>Finalist</td>\n",
       "      <td>Operating</td>\n",
       "      <td>25.1</td>\n",
       "    </tr>\n",
       "    <tr>\n",
       "      <th>346</th>\n",
       "      <td>Mint</td>\n",
       "      <td>mint.com</td>\n",
       "      <td>$31.8M</td>\n",
       "      <td>TC40 2007</td>\n",
       "      <td>Winner</td>\n",
       "      <td>Acquired</td>\n",
       "      <td>31.8</td>\n",
       "    </tr>\n",
       "    <tr>\n",
       "      <th>389</th>\n",
       "      <td>OrderWithMe</td>\n",
       "      <td>orderwithme.com</td>\n",
       "      <td>$37M</td>\n",
       "      <td>Disrupt Beijing 2011</td>\n",
       "      <td>Winner</td>\n",
       "      <td>Operating</td>\n",
       "      <td>37.0</td>\n",
       "    </tr>\n",
       "    <tr>\n",
       "      <th>393</th>\n",
       "      <td>Osmo</td>\n",
       "      <td>playosmo.com</td>\n",
       "      <td>$38.5M</td>\n",
       "      <td>Disrupt SF 2013</td>\n",
       "      <td>Contestant</td>\n",
       "      <td>Operating</td>\n",
       "      <td>38.5</td>\n",
       "    </tr>\n",
       "    <tr>\n",
       "      <th>394</th>\n",
       "      <td>Ossia</td>\n",
       "      <td>ossia.com</td>\n",
       "      <td>$25.5M</td>\n",
       "      <td>Disrupt SF 2013</td>\n",
       "      <td>Runner up</td>\n",
       "      <td>Operating</td>\n",
       "      <td>25.5</td>\n",
       "    </tr>\n",
       "    <tr>\n",
       "      <th>398</th>\n",
       "      <td>Owlet Baby Care</td>\n",
       "      <td>owletcare.com</td>\n",
       "      <td>$24M</td>\n",
       "      <td>Hardware Battlefield 2014</td>\n",
       "      <td>Runner up</td>\n",
       "      <td>Operating</td>\n",
       "      <td>24.0</td>\n",
       "    </tr>\n",
       "    <tr>\n",
       "      <th>427</th>\n",
       "      <td>Postmates</td>\n",
       "      <td>postmates.com</td>\n",
       "      <td>$278M</td>\n",
       "      <td>Disrupt SF 2011</td>\n",
       "      <td>Contestant</td>\n",
       "      <td>Operating</td>\n",
       "      <td>278.0</td>\n",
       "    </tr>\n",
       "    <tr>\n",
       "      <th>432</th>\n",
       "      <td>Prism Skylabs</td>\n",
       "      <td>prism.com</td>\n",
       "      <td>$24M</td>\n",
       "      <td>Disrupt SF 2011</td>\n",
       "      <td>Runner up</td>\n",
       "      <td>Operating</td>\n",
       "      <td>24.0</td>\n",
       "    </tr>\n",
       "    <tr>\n",
       "      <th>435</th>\n",
       "      <td>PubMatic</td>\n",
       "      <td>pubmatic.com</td>\n",
       "      <td>$63M</td>\n",
       "      <td>TC40 2007</td>\n",
       "      <td>Contestant</td>\n",
       "      <td>Operating</td>\n",
       "      <td>63.0</td>\n",
       "    </tr>\n",
       "    <tr>\n",
       "      <th>460</th>\n",
       "      <td>Roadie</td>\n",
       "      <td>roadie.com</td>\n",
       "      <td>$25M</td>\n",
       "      <td>Disrupt NYC 2014</td>\n",
       "      <td>Audience choice</td>\n",
       "      <td>Operating</td>\n",
       "      <td>25.0</td>\n",
       "    </tr>\n",
       "    <tr>\n",
       "      <th>471</th>\n",
       "      <td>SeatGeek</td>\n",
       "      <td>seatgeek.com</td>\n",
       "      <td>$160M</td>\n",
       "      <td>TC50 2009</td>\n",
       "      <td>Contestant</td>\n",
       "      <td>Operating</td>\n",
       "      <td>160.0</td>\n",
       "    </tr>\n",
       "    <tr>\n",
       "      <th>546</th>\n",
       "      <td>StyleSeat</td>\n",
       "      <td>styleseat.com</td>\n",
       "      <td>$40M</td>\n",
       "      <td>Disrupt NYC 2011</td>\n",
       "      <td>Contestant</td>\n",
       "      <td>Operating</td>\n",
       "      <td>40.0</td>\n",
       "    </tr>\n",
       "    <tr>\n",
       "      <th>555</th>\n",
       "      <td>Symphony Commerce</td>\n",
       "      <td>symphonycommerce.com</td>\n",
       "      <td>$47.4M</td>\n",
       "      <td>Disrupt NYC 2011</td>\n",
       "      <td>Contestant</td>\n",
       "      <td>Operating</td>\n",
       "      <td>47.4</td>\n",
       "    </tr>\n",
       "    <tr>\n",
       "      <th>560</th>\n",
       "      <td>Talkdesk</td>\n",
       "      <td>talkdesk.com</td>\n",
       "      <td>$24.5M</td>\n",
       "      <td>Disrupt NYC 2012</td>\n",
       "      <td>Contestant</td>\n",
       "      <td>Operating</td>\n",
       "      <td>24.5</td>\n",
       "    </tr>\n",
       "    <tr>\n",
       "      <th>581</th>\n",
       "      <td>TouchPal</td>\n",
       "      <td>touchpal.com</td>\n",
       "      <td>$25M</td>\n",
       "      <td>Disrupt Beijing 2011</td>\n",
       "      <td>Finalist</td>\n",
       "      <td>Operating</td>\n",
       "      <td>25.0</td>\n",
       "    </tr>\n",
       "    <tr>\n",
       "      <th>593</th>\n",
       "      <td>TrueCar</td>\n",
       "      <td>truecar.com</td>\n",
       "      <td>$332.4M</td>\n",
       "      <td>TC50 2008</td>\n",
       "      <td>Contestant</td>\n",
       "      <td>Ipo</td>\n",
       "      <td>332.4</td>\n",
       "    </tr>\n",
       "    <tr>\n",
       "      <th>598</th>\n",
       "      <td>UberConference</td>\n",
       "      <td>uberconference.com</td>\n",
       "      <td>$35M</td>\n",
       "      <td>Disrupt NYC 2012</td>\n",
       "      <td>Winner</td>\n",
       "      <td>Operating</td>\n",
       "      <td>35.0</td>\n",
       "    </tr>\n",
       "    <tr>\n",
       "      <th>606</th>\n",
       "      <td>Upwork</td>\n",
       "      <td>upwork.com</td>\n",
       "      <td>$168.8M</td>\n",
       "      <td>TC50 2009</td>\n",
       "      <td>Audience choice</td>\n",
       "      <td>Operating</td>\n",
       "      <td>168.8</td>\n",
       "    </tr>\n",
       "    <tr>\n",
       "      <th>615</th>\n",
       "      <td>VideoSurf</td>\n",
       "      <td>videosurf.com</td>\n",
       "      <td>$28M</td>\n",
       "      <td>TC50 2008</td>\n",
       "      <td>Contestant</td>\n",
       "      <td>Acquired</td>\n",
       "      <td>28.0</td>\n",
       "    </tr>\n",
       "    <tr>\n",
       "      <th>625</th>\n",
       "      <td>Voxy</td>\n",
       "      <td>voxy.com</td>\n",
       "      <td>$30.8M</td>\n",
       "      <td>Disrupt SF 2010</td>\n",
       "      <td>Contestant</td>\n",
       "      <td>Operating</td>\n",
       "      <td>30.8</td>\n",
       "    </tr>\n",
       "    <tr>\n",
       "      <th>643</th>\n",
       "      <td>Xobni</td>\n",
       "      <td>yahoo.com</td>\n",
       "      <td>$41.8M</td>\n",
       "      <td>TC40 2007</td>\n",
       "      <td>Contestant</td>\n",
       "      <td>Acquired</td>\n",
       "      <td>41.8</td>\n",
       "    </tr>\n",
       "    <tr>\n",
       "      <th>644</th>\n",
       "      <td>Yammer</td>\n",
       "      <td>yammer.com</td>\n",
       "      <td>$142M</td>\n",
       "      <td>TC50 2008</td>\n",
       "      <td>Winner</td>\n",
       "      <td>Acquired</td>\n",
       "      <td>142.0</td>\n",
       "    </tr>\n",
       "    <tr>\n",
       "      <th>647</th>\n",
       "      <td>Yext</td>\n",
       "      <td>yext.com</td>\n",
       "      <td>$117.8M</td>\n",
       "      <td>TC50 2009</td>\n",
       "      <td>Contestant</td>\n",
       "      <td>Ipo</td>\n",
       "      <td>117.8</td>\n",
       "    </tr>\n",
       "    <tr>\n",
       "      <th>649</th>\n",
       "      <td>YouNow</td>\n",
       "      <td>younow.com</td>\n",
       "      <td>$26M</td>\n",
       "      <td>Disrupt SF 2011</td>\n",
       "      <td>Contestant</td>\n",
       "      <td>Operating</td>\n",
       "      <td>26.0</td>\n",
       "    </tr>\n",
       "    <tr>\n",
       "      <th>650</th>\n",
       "      <td>YourMechanic</td>\n",
       "      <td>yourmechanic.com</td>\n",
       "      <td>$28M</td>\n",
       "      <td>Disrupt SF 2012</td>\n",
       "      <td>Winner</td>\n",
       "      <td>Operating</td>\n",
       "      <td>28.0</td>\n",
       "    </tr>\n",
       "    <tr>\n",
       "      <th>654</th>\n",
       "      <td>ZEFR</td>\n",
       "      <td>zefr.com</td>\n",
       "      <td>$62.1M</td>\n",
       "      <td>Disrupt NYC 2010</td>\n",
       "      <td>Contestant</td>\n",
       "      <td>Operating</td>\n",
       "      <td>62.1</td>\n",
       "    </tr>\n",
       "    <tr>\n",
       "      <th>656</th>\n",
       "      <td>Zenefits</td>\n",
       "      <td>zenefits.com</td>\n",
       "      <td>$583.6M</td>\n",
       "      <td>Disrupt NYC 2013</td>\n",
       "      <td>Finalist</td>\n",
       "      <td>Operating</td>\n",
       "      <td>583.6</td>\n",
       "    </tr>\n",
       "    <tr>\n",
       "      <th>659</th>\n",
       "      <td>Zocdoc</td>\n",
       "      <td>zocdoc.com</td>\n",
       "      <td>$223M</td>\n",
       "      <td>TC40 2007</td>\n",
       "      <td>Contestant</td>\n",
       "      <td>Operating</td>\n",
       "      <td>223.0</td>\n",
       "    </tr>\n",
       "    <tr>\n",
       "      <th>661</th>\n",
       "      <td>Zumper</td>\n",
       "      <td>zumper.com</td>\n",
       "      <td>$31.5M</td>\n",
       "      <td>Disrupt SF 2012</td>\n",
       "      <td>Finalist</td>\n",
       "      <td>Operating</td>\n",
       "      <td>31.5</td>\n",
       "    </tr>\n",
       "  </tbody>\n",
       "</table>\n",
       "</div>"
      ],
      "text/plain": [
       "               Startup               Product  Funding  \\\n",
       "6         8 Securities       8securities.com     $29M   \n",
       "31             Anyclip           anyclip.com     $24M   \n",
       "40               Artsy             artsy.net   $50.9M   \n",
       "49          Badgeville        badgeville.com     $40M   \n",
       "56          Betterment        betterment.com    $205M   \n",
       "108          Clickable         clickable.com   $32.5M   \n",
       "113         Cloudflare        cloudflare.com  $182.1M   \n",
       "128      Credit Sesame      creditsesame.com   $35.4M   \n",
       "130   CrowdFlower Inc.       crowdflower.com     $38M   \n",
       "132      Cubic Telecom      cubictelecom.com   $37.1M   \n",
       "138           DataSift          datasift.com     $72M   \n",
       "139             DataXu            dataxu.com     $64M   \n",
       "154            Dropbox           dropbox.com    $1.7B   \n",
       "166             Enigma             enigma.io   $34.6M   \n",
       "172       EverythingMe         everything.me   $35.5M   \n",
       "179            Famo.us               famo.us   $30.1M   \n",
       "180            Farmigo           farmigo.com     $26M   \n",
       "188             Fitbit            fitbit.com     $66M   \n",
       "191              Flock             flock.com   $28.3M   \n",
       "209          Getaround         getaround.com    $103M   \n",
       "213               Gild              gild.com   $25.9M   \n",
       "215              Glide              glide.me   $36.5M   \n",
       "225            Grockit           grockit.com   $44.7M   \n",
       "231         HackerRank        hackerrank.com   $24.2M   \n",
       "271     Ionic Security     ionicsecurity.com  $122.4M   \n",
       "276               IZEA              izea.com   $34.9M   \n",
       "279               Jiff              jiff.com   $67.8M   \n",
       "282            Kaltura           kaltura.com  $166.1M   \n",
       "302              Layer             layer.com   $42.1M   \n",
       "305          LearnVest         learnvest.com     $69M   \n",
       "313         LiveIntent        liveintent.com   $65.1M   \n",
       "325           Lystable          lystable.com   $25.1M   \n",
       "346               Mint              mint.com   $31.8M   \n",
       "389        OrderWithMe       orderwithme.com     $37M   \n",
       "393               Osmo          playosmo.com   $38.5M   \n",
       "394              Ossia             ossia.com   $25.5M   \n",
       "398    Owlet Baby Care         owletcare.com     $24M   \n",
       "427          Postmates         postmates.com    $278M   \n",
       "432      Prism Skylabs             prism.com     $24M   \n",
       "435           PubMatic          pubmatic.com     $63M   \n",
       "460             Roadie            roadie.com     $25M   \n",
       "471           SeatGeek          seatgeek.com    $160M   \n",
       "546          StyleSeat         styleseat.com     $40M   \n",
       "555  Symphony Commerce  symphonycommerce.com   $47.4M   \n",
       "560           Talkdesk          talkdesk.com   $24.5M   \n",
       "581           TouchPal          touchpal.com     $25M   \n",
       "593            TrueCar           truecar.com  $332.4M   \n",
       "598     UberConference    uberconference.com     $35M   \n",
       "606             Upwork            upwork.com  $168.8M   \n",
       "615          VideoSurf         videosurf.com     $28M   \n",
       "625               Voxy              voxy.com   $30.8M   \n",
       "643              Xobni             yahoo.com   $41.8M   \n",
       "644             Yammer            yammer.com    $142M   \n",
       "647               Yext              yext.com  $117.8M   \n",
       "649             YouNow            younow.com     $26M   \n",
       "650       YourMechanic      yourmechanic.com     $28M   \n",
       "654               ZEFR              zefr.com   $62.1M   \n",
       "656           Zenefits          zenefits.com  $583.6M   \n",
       "659             Zocdoc            zocdoc.com    $223M   \n",
       "661             Zumper            zumper.com   $31.5M   \n",
       "\n",
       "                         Event           Result OperatingState  \\\n",
       "6         Disrupt Beijing 2011         Finalist      Operating   \n",
       "31                   TC50 2009         Finalist      Operating   \n",
       "40            Disrupt NYC 2010       Contestant      Operating   \n",
       "49             Disrupt SF 2010         Finalist       Acquired   \n",
       "56            Disrupt NYC 2010         Finalist      Operating   \n",
       "108                  TC40 2007         Finalist       Acquired   \n",
       "113            Disrupt SF 2010        Runner up      Operating   \n",
       "128            Disrupt SF 2010       Contestant      Operating   \n",
       "130                  TC50 2009       Contestant      Operating   \n",
       "132                  TC40 2007       Contestant      Operating   \n",
       "138            Disrupt SF 2010         Finalist      Operating   \n",
       "139                  TC50 2009       Contestant      Operating   \n",
       "154                  TC50 2008       Contestant      Operating   \n",
       "166           Disrupt NYC 2013           Winner      Operating   \n",
       "172           Disrupt NYC 2011       Contestant         Closed   \n",
       "179            Disrupt SF 2012       Contestant      Operating   \n",
       "180            Disrupt SF 2011         Finalist      Operating   \n",
       "188                  TC50 2008         Finalist            Ipo   \n",
       "191                  TC40 2007       Contestant       Acquired   \n",
       "209           Disrupt NYC 2011           Winner      Operating   \n",
       "213            Disrupt SF 2010       Contestant       Acquired   \n",
       "215           Disrupt NYC 2013  Audience choice      Operating   \n",
       "225                  TC50 2008         Finalist       Acquired   \n",
       "231            Disrupt SF 2012       Contestant      Operating   \n",
       "271            Disrupt SF 2012       Contestant      Operating   \n",
       "276           Disrupt NYC 2010       Contestant            Ipo   \n",
       "279            Disrupt SF 2011       Contestant       Acquired   \n",
       "282                  TC40 2007  Audience choice      Operating   \n",
       "302            Disrupt SF 2013           Winner      Operating   \n",
       "305                  TC50 2009       Contestant       Acquired   \n",
       "313           Disrupt NYC 2010  Audience choice      Operating   \n",
       "325        Disrupt London 2015         Finalist      Operating   \n",
       "346                  TC40 2007           Winner       Acquired   \n",
       "389       Disrupt Beijing 2011           Winner      Operating   \n",
       "393            Disrupt SF 2013       Contestant      Operating   \n",
       "394            Disrupt SF 2013        Runner up      Operating   \n",
       "398  Hardware Battlefield 2014        Runner up      Operating   \n",
       "427            Disrupt SF 2011       Contestant      Operating   \n",
       "432            Disrupt SF 2011        Runner up      Operating   \n",
       "435                  TC40 2007       Contestant      Operating   \n",
       "460           Disrupt NYC 2014  Audience choice      Operating   \n",
       "471                  TC50 2009       Contestant      Operating   \n",
       "546           Disrupt NYC 2011       Contestant      Operating   \n",
       "555           Disrupt NYC 2011       Contestant      Operating   \n",
       "560           Disrupt NYC 2012       Contestant      Operating   \n",
       "581       Disrupt Beijing 2011         Finalist      Operating   \n",
       "593                  TC50 2008       Contestant            Ipo   \n",
       "598           Disrupt NYC 2012           Winner      Operating   \n",
       "606                  TC50 2009  Audience choice      Operating   \n",
       "615                  TC50 2008       Contestant       Acquired   \n",
       "625            Disrupt SF 2010       Contestant      Operating   \n",
       "643                  TC40 2007       Contestant       Acquired   \n",
       "644                  TC50 2008           Winner       Acquired   \n",
       "647                  TC50 2009       Contestant            Ipo   \n",
       "649            Disrupt SF 2011       Contestant      Operating   \n",
       "650            Disrupt SF 2012           Winner      Operating   \n",
       "654           Disrupt NYC 2010       Contestant      Operating   \n",
       "656           Disrupt NYC 2013         Finalist      Operating   \n",
       "659                  TC40 2007       Contestant      Operating   \n",
       "661            Disrupt SF 2012         Finalist      Operating   \n",
       "\n",
       "     Funding_in_million  \n",
       "6                  29.0  \n",
       "31                 24.0  \n",
       "40                 50.9  \n",
       "49                 40.0  \n",
       "56                205.0  \n",
       "108                32.5  \n",
       "113               182.1  \n",
       "128                35.4  \n",
       "130                38.0  \n",
       "132                37.1  \n",
       "138                72.0  \n",
       "139                64.0  \n",
       "154              1700.0  \n",
       "166                34.6  \n",
       "172                35.5  \n",
       "179                30.1  \n",
       "180                26.0  \n",
       "188                66.0  \n",
       "191                28.3  \n",
       "209               103.0  \n",
       "213                25.9  \n",
       "215                36.5  \n",
       "225                44.7  \n",
       "231                24.2  \n",
       "271               122.4  \n",
       "276                34.9  \n",
       "279                67.8  \n",
       "282               166.1  \n",
       "302                42.1  \n",
       "305                69.0  \n",
       "313                65.1  \n",
       "325                25.1  \n",
       "346                31.8  \n",
       "389                37.0  \n",
       "393                38.5  \n",
       "394                25.5  \n",
       "398                24.0  \n",
       "427               278.0  \n",
       "432                24.0  \n",
       "435                63.0  \n",
       "460                25.0  \n",
       "471               160.0  \n",
       "546                40.0  \n",
       "555                47.4  \n",
       "560                24.5  \n",
       "581                25.0  \n",
       "593               332.4  \n",
       "598                35.0  \n",
       "606               168.8  \n",
       "615                28.0  \n",
       "625                30.8  \n",
       "643                41.8  \n",
       "644               142.0  \n",
       "647               117.8  \n",
       "649                26.0  \n",
       "650                28.0  \n",
       "654                62.1  \n",
       "656               583.6  \n",
       "659               223.0  \n",
       "661                31.5  "
      ]
     },
     "execution_count": 72,
     "metadata": {},
     "output_type": "execute_result"
    }
   ],
   "source": [
    "print(f'Number of outliers = {len(df1[df1.Funding_in_million > upper_fence])}')\n",
    "\n",
    "df1[df1.Funding_in_million > upper_fence]"
   ]
  },
  {
   "cell_type": "markdown",
   "metadata": {},
   "source": [
    "- The above 60 records are of companies that have been funded excessively in comparision to the others in the pool\n",
    "- Let's see the distribution without these outliers"
   ]
  },
  {
   "cell_type": "code",
   "execution_count": 73,
   "metadata": {},
   "outputs": [],
   "source": [
    "df1.drop(df1[df1.Funding_in_million > upper_fence].index, inplace = True)"
   ]
  },
  {
   "cell_type": "code",
   "execution_count": 85,
   "metadata": {
    "scrolled": false
   },
   "outputs": [
    {
     "data": {
      "image/png": "[encoded data removed]",
      "text/plain": [
       "<Figure size 432x288 with 1 Axes>"
      ]
     },
     "metadata": {
      "needs_background": "light"
     },
     "output_type": "display_data"
    }
   ],
   "source": [
    "plot = plt.boxplot(df1.Funding_in_million)\n",
    "plt.title('Boxplot of funds without the original outliers')\n",
    "plt.ylabel(\"Funding(in Million)\")\n",
    "plt.show()"
   ]
  },
  {
   "cell_type": "code",
   "execution_count": 87,
   "metadata": {
    "scrolled": true
   },
   "outputs": [
    {
     "data": {
      "text/plain": [
       "Operating    275\n",
       "Closed        56\n",
       "Acquired      55\n",
       "Name: OperatingState, dtype: int64"
      ]
     },
     "execution_count": 87,
     "metadata": {},
     "output_type": "execute_result"
    }
   ],
   "source": [
    "df1.OperatingState.value_counts()"
   ]
  },
  {
   "cell_type": "markdown",
   "metadata": {},
   "source": [
    "- Our companies of interest for task 1 are 275 companies that are opetaring and 57 that got closed"
   ]
  },
  {
   "cell_type": "code",
   "execution_count": 88,
   "metadata": {},
   "outputs": [
    {
     "name": "stderr",
     "output_type": "stream",
     "text": [
      "C:\\ProgramData\\Anaconda3\\lib\\site-packages\\seaborn\\distributions.py:2551: FutureWarning: `distplot` is a deprecated function and will be removed in a future version. Please adapt your code to use either `displot` (a figure-level function with similar flexibility) or `histplot` (an axes-level function for histograms).\n",
      "  warnings.warn(msg, FutureWarning)\n"
     ]
    },
    {
     "data": {
      "image/png": "[encoded data removed]",
      "text/plain": [
       "<Figure size 432x288 with 1 Axes>"
      ]
     },
     "metadata": {
      "needs_background": "light"
     },
     "output_type": "display_data"
    }
   ],
   "source": [
    "import seaborn as sns\n",
    "\n",
    "sns.distplot(df1.Funding_in_million)\n",
    "plt.title('Distribution of funding across all companies')\n",
    "plt.show()"
   ]
  },
  {
   "cell_type": "code",
   "execution_count": 89,
   "metadata": {},
   "outputs": [
    {
     "data": {
      "text/plain": [
       "count    386.00000\n",
       "mean       3.72514\n",
       "std        4.73236\n",
       "min        0.00500\n",
       "25%        0.60000\n",
       "50%        1.70000\n",
       "75%        5.00000\n",
       "max       22.00000\n",
       "Name: Funding_in_million, dtype: float64"
      ]
     },
     "execution_count": 89,
     "metadata": {},
     "output_type": "execute_result"
    }
   ],
   "source": [
    "df1.Funding_in_million.describe()"
   ]
  },
  {
   "cell_type": "markdown",
   "metadata": {},
   "source": [
    "- 75% of the companies have less than 5 million raised funds, the max however is 22\n",
    "- Even after removing the outliers, the data is pretty heavily skewed"
   ]
  },
  {
   "cell_type": "code",
   "execution_count": 99,
   "metadata": {},
   "outputs": [
    {
     "name": "stderr",
     "output_type": "stream",
     "text": [
      "C:\\ProgramData\\Anaconda3\\lib\\site-packages\\seaborn\\distributions.py:2551: FutureWarning: `distplot` is a deprecated function and will be removed in a future version. Please adapt your code to use either `displot` (a figure-level function with similar flexibility) or `histplot` (an axes-level function for histograms).\n",
      "  warnings.warn(msg, FutureWarning)\n",
      "C:\\ProgramData\\Anaconda3\\lib\\site-packages\\seaborn\\distributions.py:2551: FutureWarning: `distplot` is a deprecated function and will be removed in a future version. Please adapt your code to use either `displot` (a figure-level function with similar flexibility) or `histplot` (an axes-level function for histograms).\n",
      "  warnings.warn(msg, FutureWarning)\n"
     ]
    },
    {
     "data": {
      "image/png": "[encoded data removed]",
      "text/plain": [
       "<Figure size 1080x360 with 2 Axes>"
      ]
     },
     "metadata": {
      "needs_background": "light"
     },
     "output_type": "display_data"
    }
   ],
   "source": [
    "fig, ax = plt.subplots(1, 2)\n",
    "\n",
    "fig.set_figheight(5)\n",
    "fig.set_figwidth(15)\n",
    "\n",
    "sns.distplot(df1.loc[df1.OperatingState == 'Operating', 'Funding_in_million'], ax = ax[0])\n",
    "sns.distplot(df1.loc[df1.OperatingState == 'Closed', 'Funding_in_million'], ax = ax[1])\n",
    "\n",
    "ax[0].set_title('Funding by the companies still operating')\n",
    "ax[1].set_title('Funding by companies that got closed')\n",
    "plt.show()"
   ]
  },
  {
   "cell_type": "markdown",
   "metadata": {},
   "source": [
    "- Visually the distributions are quiet similar\n",
    "- To prove if there is a significant difference or not we will have to perform a hypothesis test\n",
    "- Since we want to compare the difference in means of the samples, we can either use 2 sample t test or z-test\n",
    "- For this exercise we shall do both and compare the results\n",
    "- One thing to notice is that the distributions are not normal yet, since our sample size is reasonably big ( >30 samples), we will go ahead with the aforementioned tests\n",
    "\n",
    "For the first test, \n",
    "\n",
    "**Null hypothesis (Ho)** : There is no difference between the two means\n",
    "\n",
    "**Alternate hypothesis (Ha)** : There is significant difference between the two means"
   ]
  },
  {
   "cell_type": "code",
   "execution_count": 100,
   "metadata": {},
   "outputs": [
    {
     "name": "stdout",
     "output_type": "stream",
     "text": [
      "\t Since the p-value, 0.192 > 0.05 (alpha) the difference is not significant and,\n",
      "    \t we fail to reject the Null hypothesis\n"
     ]
    }
   ],
   "source": [
    "from statsmodels.stats.weightstats import ztest\n",
    "\n",
    "sample1 = df1.loc[df1.OperatingState == 'Operating', 'Funding_in_million']\n",
    "sample2 = df1.loc[df1.OperatingState == 'Closed', 'Funding_in_million']\n",
    "\n",
    "alpha = 0.05   # Let's consider a significance level of 5%\n",
    "\n",
    "test_statistic, p_value = ztest(sample1, sample2)\n",
    "\n",
    "if p_value <= alpha:\n",
    "    print(f'Since the p-value, {round(p_value, 3)} < {alpha} (alpha) the difference is significant and we reject the Null hypothesis')\n",
    "else:\n",
    "    print(f'''\\t Since the p-value, {round(p_value,3)} > {alpha} (alpha) the difference is not significant and,\n",
    "    \\t we fail to reject the Null hypothesis''')\n",
    "    "
   ]
  },
  {
   "cell_type": "code",
   "execution_count": 101,
   "metadata": {},
   "outputs": [
    {
     "name": "stdout",
     "output_type": "stream",
     "text": [
      "\t Since the p-value, 0.193 > 0.05 (alpha) the difference is not significant and,\n",
      "    \t we fail to reject the Null hypothesis\n"
     ]
    }
   ],
   "source": [
    "from scipy.stats import ttest_ind\n",
    "\n",
    "test_statistic, p_value = ttest_ind(sample1, sample2)\n",
    "\n",
    "if p_value <= alpha:\n",
    "    print(f'Since the p-value, {round(p_value, 3)} < {alpha} (alpha) the difference is significant and we reject the Null hypothesis')\n",
    "else:\n",
    "    print(f'''\\t Since the p-value, {round(p_value,3)} > {alpha} (alpha) the difference is not significant and,\n",
    "    \\t we fail to reject the Null hypothesis''')"
   ]
  },
  {
   "cell_type": "markdown",
   "metadata": {},
   "source": [
    "- From the tests above we found no evidence to state that the companies that have raised more money tend to suceed more or vice-versa"
   ]
  },
  {
   "cell_type": "code",
   "execution_count": 102,
   "metadata": {},
   "outputs": [
    {
     "data": {
      "text/plain": [
       "11.6"
      ]
     },
     "execution_count": 102,
     "metadata": {},
     "output_type": "execute_result"
    }
   ],
   "source": [
    "lower_fence = plot['caps'][1].get_data()[1][1]  #we can use the values from the box plot itself to get the lower fence\n",
    "lower_fence\n"
   ]
  },
  {
   "cell_type": "code",
   "execution_count": 103,
   "metadata": {},
   "outputs": [
    {
     "name": "stdout",
     "output_type": "stream",
     "text": [
      "Number of outliers = 349\n"
     ]
    },
    {
     "data": {
      "text/html": [
       "<div>\n",
       "<style scoped>\n",
       "    .dataframe tbody tr th:only-of-type {\n",
       "        vertical-align: middle;\n",
       "    }\n",
       "\n",
       "    .dataframe tbody tr th {\n",
       "        vertical-align: top;\n",
       "    }\n",
       "\n",
       "    .dataframe thead th {\n",
       "        text-align: right;\n",
       "    }\n",
       "</style>\n",
       "<table border=\"1\" class=\"dataframe\">\n",
       "  <thead>\n",
       "    <tr style=\"text-align: right;\">\n",
       "      <th></th>\n",
       "      <th>Startup</th>\n",
       "      <th>Product</th>\n",
       "      <th>Funding</th>\n",
       "      <th>Event</th>\n",
       "      <th>Result</th>\n",
       "      <th>OperatingState</th>\n",
       "      <th>Funding_in_million</th>\n",
       "    </tr>\n",
       "  </thead>\n",
       "  <tbody>\n",
       "    <tr>\n",
       "      <th>1</th>\n",
       "      <td>3DLT</td>\n",
       "      <td>3dlt.com</td>\n",
       "      <td>$630K</td>\n",
       "      <td>Disrupt NYC 2013</td>\n",
       "      <td>Contestant</td>\n",
       "      <td>Closed</td>\n",
       "      <td>0.63</td>\n",
       "    </tr>\n",
       "    <tr>\n",
       "      <th>3</th>\n",
       "      <td>3Dprintler</td>\n",
       "      <td>3dprintler.com</td>\n",
       "      <td>$1M</td>\n",
       "      <td>Disrupt NY 2016</td>\n",
       "      <td>Audience choice</td>\n",
       "      <td>Operating</td>\n",
       "      <td>1.00</td>\n",
       "    </tr>\n",
       "    <tr>\n",
       "      <th>10</th>\n",
       "      <td>AdhereTech</td>\n",
       "      <td>adheretech.com</td>\n",
       "      <td>$1.8M</td>\n",
       "      <td>Hardware Battlefield 2014</td>\n",
       "      <td>Contestant</td>\n",
       "      <td>Operating</td>\n",
       "      <td>1.80</td>\n",
       "    </tr>\n",
       "    <tr>\n",
       "      <th>11</th>\n",
       "      <td>AdRocket</td>\n",
       "      <td>adrocket.com</td>\n",
       "      <td>$1M</td>\n",
       "      <td>TC50 2008</td>\n",
       "      <td>Contestant</td>\n",
       "      <td>Closed</td>\n",
       "      <td>1.00</td>\n",
       "    </tr>\n",
       "    <tr>\n",
       "      <th>13</th>\n",
       "      <td>Agrilyst</td>\n",
       "      <td>agrilyst.com</td>\n",
       "      <td>$1M</td>\n",
       "      <td>Disrupt SF 2015</td>\n",
       "      <td>Winner</td>\n",
       "      <td>Operating</td>\n",
       "      <td>1.00</td>\n",
       "    </tr>\n",
       "    <tr>\n",
       "      <th>...</th>\n",
       "      <td>...</td>\n",
       "      <td>...</td>\n",
       "      <td>...</td>\n",
       "      <td>...</td>\n",
       "      <td>...</td>\n",
       "      <td>...</td>\n",
       "      <td>...</td>\n",
       "    </tr>\n",
       "    <tr>\n",
       "      <th>645</th>\n",
       "      <td>Yap</td>\n",
       "      <td>yapme.com</td>\n",
       "      <td>$10M</td>\n",
       "      <td>TC40 2007</td>\n",
       "      <td>Contestant</td>\n",
       "      <td>Closed</td>\n",
       "      <td>10.00</td>\n",
       "    </tr>\n",
       "    <tr>\n",
       "      <th>646</th>\n",
       "      <td>YayPay Inc</td>\n",
       "      <td>yaypay.com</td>\n",
       "      <td>$900K</td>\n",
       "      <td>Disrupt London 2015</td>\n",
       "      <td>Contestant</td>\n",
       "      <td>Operating</td>\n",
       "      <td>0.90</td>\n",
       "    </tr>\n",
       "    <tr>\n",
       "      <th>657</th>\n",
       "      <td>Zivity</td>\n",
       "      <td>zivity.com</td>\n",
       "      <td>$8M</td>\n",
       "      <td>TC40 2007</td>\n",
       "      <td>Contestant</td>\n",
       "      <td>Operating</td>\n",
       "      <td>8.00</td>\n",
       "    </tr>\n",
       "    <tr>\n",
       "      <th>658</th>\n",
       "      <td>Zmorph</td>\n",
       "      <td>zmorph3d.com</td>\n",
       "      <td>$1M</td>\n",
       "      <td>-</td>\n",
       "      <td>Audience choice</td>\n",
       "      <td>Operating</td>\n",
       "      <td>1.00</td>\n",
       "    </tr>\n",
       "    <tr>\n",
       "      <th>660</th>\n",
       "      <td>Zula</td>\n",
       "      <td>zulaapp.com</td>\n",
       "      <td>$3.4M</td>\n",
       "      <td>Disrupt SF 2013</td>\n",
       "      <td>Audience choice</td>\n",
       "      <td>Operating</td>\n",
       "      <td>3.40</td>\n",
       "    </tr>\n",
       "  </tbody>\n",
       "</table>\n",
       "<p>349 rows × 7 columns</p>\n",
       "</div>"
      ],
      "text/plain": [
       "        Startup         Product Funding                      Event  \\\n",
       "1          3DLT        3dlt.com   $630K           Disrupt NYC 2013   \n",
       "3    3Dprintler  3dprintler.com     $1M            Disrupt NY 2016   \n",
       "10   AdhereTech  adheretech.com   $1.8M  Hardware Battlefield 2014   \n",
       "11     AdRocket    adrocket.com     $1M                  TC50 2008   \n",
       "13     Agrilyst    agrilyst.com     $1M            Disrupt SF 2015   \n",
       "..          ...             ...     ...                        ...   \n",
       "645         Yap       yapme.com    $10M                  TC40 2007   \n",
       "646  YayPay Inc      yaypay.com   $900K        Disrupt London 2015   \n",
       "657      Zivity      zivity.com     $8M                  TC40 2007   \n",
       "658      Zmorph    zmorph3d.com     $1M                          -   \n",
       "660        Zula     zulaapp.com   $3.4M            Disrupt SF 2013   \n",
       "\n",
       "              Result OperatingState  Funding_in_million  \n",
       "1         Contestant         Closed                0.63  \n",
       "3    Audience choice      Operating                1.00  \n",
       "10        Contestant      Operating                1.80  \n",
       "11        Contestant         Closed                1.00  \n",
       "13            Winner      Operating                1.00  \n",
       "..               ...            ...                 ...  \n",
       "645       Contestant         Closed               10.00  \n",
       "646       Contestant      Operating                0.90  \n",
       "657       Contestant      Operating                8.00  \n",
       "658  Audience choice      Operating                1.00  \n",
       "660  Audience choice      Operating                3.40  \n",
       "\n",
       "[349 rows x 7 columns]"
      ]
     },
     "execution_count": 103,
     "metadata": {},
     "output_type": "execute_result"
    }
   ],
   "source": [
    "print(f'Number of outliers = {len(df1[df1.Funding_in_million <lower_fence])}')\n",
    "\n",
    "df1[df1.Funding_in_million <lower_fence]"
   ]
  },
  {
   "cell_type": "code",
   "execution_count": null,
   "metadata": {},
   "outputs": [],
   "source": [
    "- The above 349 records are of companies that have been funded excessively in comparision to the others in the pool\n",
    "- Let's see the distribution without these outliers"
   ]
  },
  {
   "cell_type": "code",
   "execution_count": 107,
   "metadata": {},
   "outputs": [],
   "source": [
    "df1.drop(df1[df1.Funding_in_million < lower_fence].index, inplace = True)"
   ]
  },
  {
   "cell_type": "code",
   "execution_count": 108,
   "metadata": {},
   "outputs": [
    {
     "data": {
      "image/png": "[encoded data removed]",
      "text/plain": [
       "<Figure size 432x288 with 1 Axes>"
      ]
     },
     "metadata": {
      "needs_background": "light"
     },
     "output_type": "display_data"
    }
   ],
   "source": [
    "plot = plt.boxplot(df1.Funding_in_million)\n",
    "plt.title('Boxplot of funding without the original outliers')\n",
    "plt.ylabel(\"Funding (in Million)\")\n",
    "plt.show()"
   ]
  },
  {
   "cell_type": "code",
   "execution_count": 111,
   "metadata": {},
   "outputs": [
    {
     "data": {
      "text/html": [
       "<div>\n",
       "<style scoped>\n",
       "    .dataframe tbody tr th:only-of-type {\n",
       "        vertical-align: middle;\n",
       "    }\n",
       "\n",
       "    .dataframe tbody tr th {\n",
       "        vertical-align: top;\n",
       "    }\n",
       "\n",
       "    .dataframe thead th {\n",
       "        text-align: right;\n",
       "    }\n",
       "</style>\n",
       "<table border=\"1\" class=\"dataframe\">\n",
       "  <thead>\n",
       "    <tr style=\"text-align: right;\">\n",
       "      <th></th>\n",
       "      <th>Startup</th>\n",
       "      <th>Product</th>\n",
       "      <th>Funding</th>\n",
       "      <th>Event</th>\n",
       "      <th>Result</th>\n",
       "      <th>OperatingState</th>\n",
       "    </tr>\n",
       "  </thead>\n",
       "  <tbody>\n",
       "    <tr>\n",
       "      <th>1</th>\n",
       "      <td>3DLT</td>\n",
       "      <td>3dlt.com</td>\n",
       "      <td>$630K</td>\n",
       "      <td>Disrupt NYC 2013</td>\n",
       "      <td>Contestant</td>\n",
       "      <td>Closed</td>\n",
       "    </tr>\n",
       "    <tr>\n",
       "      <th>3</th>\n",
       "      <td>3Dprintler</td>\n",
       "      <td>3dprintler.com</td>\n",
       "      <td>$1M</td>\n",
       "      <td>Disrupt NY 2016</td>\n",
       "      <td>Audience choice</td>\n",
       "      <td>Operating</td>\n",
       "    </tr>\n",
       "    <tr>\n",
       "      <th>5</th>\n",
       "      <td>5to1</td>\n",
       "      <td>5to1.com</td>\n",
       "      <td>$19.3M</td>\n",
       "      <td>TC50 2009</td>\n",
       "      <td>Contestant</td>\n",
       "      <td>Acquired</td>\n",
       "    </tr>\n",
       "    <tr>\n",
       "      <th>6</th>\n",
       "      <td>8 Securities</td>\n",
       "      <td>8securities.com</td>\n",
       "      <td>$29M</td>\n",
       "      <td>Disrupt Beijing 2011</td>\n",
       "      <td>Finalist</td>\n",
       "      <td>Operating</td>\n",
       "    </tr>\n",
       "    <tr>\n",
       "      <th>10</th>\n",
       "      <td>AdhereTech</td>\n",
       "      <td>adheretech.com</td>\n",
       "      <td>$1.8M</td>\n",
       "      <td>Hardware Battlefield 2014</td>\n",
       "      <td>Contestant</td>\n",
       "      <td>Operating</td>\n",
       "    </tr>\n",
       "  </tbody>\n",
       "</table>\n",
       "</div>"
      ],
      "text/plain": [
       "         Startup          Product Funding                      Event  \\\n",
       "1           3DLT         3dlt.com   $630K           Disrupt NYC 2013   \n",
       "3     3Dprintler   3dprintler.com     $1M            Disrupt NY 2016   \n",
       "5           5to1         5to1.com  $19.3M                  TC50 2009   \n",
       "6   8 Securities  8securities.com    $29M       Disrupt Beijing 2011   \n",
       "10    AdhereTech   adheretech.com   $1.8M  Hardware Battlefield 2014   \n",
       "\n",
       "             Result OperatingState  \n",
       "1        Contestant         Closed  \n",
       "3   Audience choice      Operating  \n",
       "5        Contestant       Acquired  \n",
       "6          Finalist      Operating  \n",
       "10       Contestant      Operating  "
      ]
     },
     "execution_count": 111,
     "metadata": {},
     "output_type": "execute_result"
    }
   ],
   "source": [
    "df2 = company.copy(deep = True)\n",
    "df2.head()"
   ]
  },
  {
   "cell_type": "code",
   "execution_count": 112,
   "metadata": {},
   "outputs": [
    {
     "data": {
      "text/plain": [
       "Contestant         312\n",
       "Finalist            65\n",
       "Winner              25\n",
       "Audience choice     25\n",
       "Runner up           19\n",
       "Name: Result, dtype: int64"
      ]
     },
     "execution_count": 112,
     "metadata": {},
     "output_type": "execute_result"
    }
   ],
   "source": [
    "df2.Result.value_counts()"
   ]
  },
  {
   "cell_type": "markdown",
   "metadata": {},
   "source": [
    "- There are 312 who remained contestants and the rest came out as something more, we'll call all of them winners for now"
   ]
  },
  {
   "cell_type": "code",
   "execution_count": 118,
   "metadata": {},
   "outputs": [],
   "source": [
    "winners = df2.Result.value_counts()[1:].sum()\n",
    "contestants = df2.Result.value_counts()['Contestant']"
   ]
  },
  {
   "cell_type": "code",
   "execution_count": 119,
   "metadata": {},
   "outputs": [],
   "source": [
    "contestants_operating = df2.OperatingState[df2.Result == 'Contestant'].value_counts().loc['Operating']\n",
    "winners_operating = df2.OperatingState[df2.Result != 'Contestant'].value_counts().loc['Operating']\n"
   ]
  },
  {
   "cell_type": "code",
   "execution_count": 120,
   "metadata": {},
   "outputs": [
    {
     "data": {
      "text/plain": [
       "(0.7835820895522388, 0.6858974358974359)"
      ]
     },
     "execution_count": 120,
     "metadata": {},
     "output_type": "execute_result"
    }
   ],
   "source": [
    "winners_operating/winners, contestants_operating/contestants"
   ]
  },
  {
   "cell_type": "markdown",
   "metadata": {},
   "source": [
    "- There is some difference between the proportion operational companies in the two categories, but let's see if the differnce is significant\n",
    "- There are two ways we can check if the difference is significant\n",
    "    - Z-test for proportions\n",
    "    - Chi-square test\n",
    "- We shall perform z-test in this case, however, do experiment with Chi-square test and observe if the p-value from both tests gives the same conclusion or not\n",
    "\n",
    "**Null hyputhesis (Ho)**: The proportion of companies that are operating is the same in both categories - winners and contestants\n",
    "\n",
    "**Alternative hypothesis (Ha)**: The proportion of companies that are operating is significantly different from each other, among the two categories"
   ]
  },
  {
   "cell_type": "code",
   "execution_count": 121,
   "metadata": {},
   "outputs": [
    {
     "name": "stdout",
     "output_type": "stream",
     "text": [
      "Since the p-value, 0.036 < 0.05 (alpha) the difference is significant and we reject the Null hypothesis\n"
     ]
    }
   ],
   "source": [
    "from statsmodels.stats.proportion import proportions_ztest\n",
    "\n",
    "test_statistic, p_value = proportions_ztest([contestants_operating, winners_operating], [contestants, winners])\n",
    "\n",
    "if p_value <= alpha:\n",
    "    print(f'Since the p-value, {round(p_value, 3)} < {alpha} (alpha) the difference is significant and we reject the Null hypothesis')\n",
    "else:\n",
    "    print(f'''\\t Since the p-value, {round(p_value,3)} > {alpha} (alpha) the difference is not significant and,\n",
    "    \\t we fail to reject the Null hypothesis''')"
   ]
  },
  {
   "cell_type": "markdown",
   "metadata": {},
   "source": [
    "# Conclusion:\n",
    "- The amount of funds a company raises is not a significant factor in deciding if the company will remain operational or close down\n",
    "- Winners in the 'CompanyX_EU.csv battle have proven to remain operational more so, than the companies that came out only as contestants"
   ]
  },
  {
   "cell_type": "markdown",
   "metadata": {},
   "source": [
    "# Bonus"
   ]
  },
  {
   "cell_type": "code",
   "execution_count": null,
   "metadata": {},
   "outputs": [],
   "source": [
    "We have the information about the event location where each company has participated and in which year so what we want to do is, see if there is a significant difference among the funds raised by the companie only from usd (usa New York,)"
   ]
  },
  {
   "cell_type": "code",
   "execution_count": 123,
   "metadata": {},
   "outputs": [
    {
     "data": {
      "text/plain": [
       "Disrupt SF 2011        3\n",
       "Disrupt NYC 2010       2\n",
       "Disrupt SF 2015        2\n",
       "Disrupt SF 2014        2\n",
       "Disrupt NYC 2014       2\n",
       "Disrupt NYC 2012       2\n",
       "Disrupt NYC 2013       2\n",
       "Disrupt NYC 2011       2\n",
       "Disrupt SF 2012        1\n",
       "Disrupt SF 2010        1\n",
       "Disrupt SF 2013        1\n",
       "Disrupt EU 2013        1\n",
       "Disrupt London 2015    1\n",
       "Name: Event, dtype: int64"
      ]
     },
     "execution_count": 123,
     "metadata": {},
     "output_type": "execute_result"
    }
   ],
   "source": [
    "df1[df1.Event.apply(lambda x: 'Disrupt' in x)].Event.value_counts()"
   ]
  },
  {
   "cell_type": "markdown",
   "metadata": {},
   "source": [
    "- We have considered only the \"CompanyX_EU.csv Disrupt\"  events\n",
    "- Since we have the data for the SF only from 2013, we'll drop the records pertaining to events earlier than 2013"
   ]
  },
  {
   "cell_type": "code",
   "execution_count": 128,
   "metadata": {},
   "outputs": [
    {
     "data": {
      "text/plain": [
       "16         Disrupt SF 2015\n",
       "18        Disrupt NYC 2014\n",
       "46         Disrupt SF 2015\n",
       "70        Disrupt NYC 2014\n",
       "207        Disrupt SF 2014\n",
       "244        Disrupt SF 2014\n",
       "485    Disrupt London 2015\n",
       "Name: Event, dtype: object"
      ]
     },
     "execution_count": 128,
     "metadata": {},
     "output_type": "execute_result"
    }
   ],
   "source": [
    "events = df1[df1.Event.apply(lambda x: 'Disrupt' in x and int(x[-4:]) > 2013)].Event  # all the events of relevance\n",
    "events"
   ]
  },
  {
   "cell_type": "code",
   "execution_count": 127,
   "metadata": {},
   "outputs": [
    {
     "name": "stdout",
     "output_type": "stream",
     "text": [
      "4 5 2\n"
     ]
    }
   ],
   "source": [
    "NY_events = df1.loc[events[events.apply(lambda x: 'NY' in x)].index, 'Funding_in_million']\n",
    "SF_events = df1.loc[events[events.apply(lambda x: 'SF' in x)].index, 'Funding_in_million']\n",
    "EU_events = df1.loc[events[events.apply(lambda x: 'EU' in x or 'London' in x)].index, 'Funding_in_million']\n",
    "print(len(NY_events), len(SF_events), len(EU_events))"
   ]
  },
  {
   "cell_type": "markdown",
   "metadata": {},
   "source": [
    "- Each of the three above variables hold the amount of funds with respect to the Cities where the even was organised\n",
    "- The sample sizes are different across the three categories and it is okay to perform ANOVA on samples of different sizes\n",
    "\n",
    "\n",
    "**Null Hypothesis(Ho)**: Average funds raised by companies across three cities are the same \n",
    "\n",
    "**Alternative Hypothesis(Ha)**: Average funds raised by companies across three cities are the different"
   ]
  },
  {
   "cell_type": "code",
   "execution_count": 130,
   "metadata": {},
   "outputs": [
    {
     "name": "stderr",
     "output_type": "stream",
     "text": [
      "C:\\ProgramData\\Anaconda3\\lib\\site-packages\\seaborn\\distributions.py:2551: FutureWarning: `distplot` is a deprecated function and will be removed in a future version. Please adapt your code to use either `displot` (a figure-level function with similar flexibility) or `histplot` (an axes-level function for histograms).\n",
      "  warnings.warn(msg, FutureWarning)\n",
      "C:\\ProgramData\\Anaconda3\\lib\\site-packages\\seaborn\\distributions.py:2551: FutureWarning: `distplot` is a deprecated function and will be removed in a future version. Please adapt your code to use either `displot` (a figure-level function with similar flexibility) or `histplot` (an axes-level function for histograms).\n",
      "  warnings.warn(msg, FutureWarning)\n",
      "C:\\ProgramData\\Anaconda3\\lib\\site-packages\\seaborn\\distributions.py:2551: FutureWarning: `distplot` is a deprecated function and will be removed in a future version. Please adapt your code to use either `displot` (a figure-level function with similar flexibility) or `histplot` (an axes-level function for histograms).\n",
      "  warnings.warn(msg, FutureWarning)\n"
     ]
    },
    {
     "data": {
      "image/png": "[encoded data removed]",
      "text/plain": [
       "<Figure size 1080x432 with 1 Axes>"
      ]
     },
     "metadata": {
      "needs_background": "light"
     },
     "output_type": "display_data"
    }
   ],
   "source": [
    "plt.figure(figsize=(15,6))\n",
    "sns.distplot(NY_events, color = 'Red', label = 'NY')\n",
    "sns.distplot(SF_events, color = 'Gold', label = 'SF')\n",
    "sns.distplot(EU_events, color = 'blue', label = 'EU')\n",
    "plt.legend()\n",
    "plt.show()\n"
   ]
  },
  {
   "cell_type": "markdown",
   "metadata": {},
   "source": [
    "- Visually the distributions look quiet similar\n",
    "- The Modes of the three distributions are quiet the same\n",
    "- Dispersion in NY quiet high compared to the others\n",
    "- Let's see what the test says"
   ]
  },
  {
   "cell_type": "code",
   "execution_count": 131,
   "metadata": {},
   "outputs": [
    {
     "name": "stdout",
     "output_type": "stream",
     "text": [
      "Since the p-value, 0.039 < 0.05 (alpha) the difference is significant and we reject the Null hypothesis\n"
     ]
    }
   ],
   "source": [
    "from scipy.stats import f_oneway\n",
    "\n",
    "\n",
    "stat, p_value = f_oneway(NY_events, SF_events, EU_events)\n",
    "\n",
    "if p_value <= alpha:\n",
    "    print(f'Since the p-value, {round(p_value, 3)} < {alpha} (alpha) the difference is significant and we reject the Null hypothesis')\n",
    "else:\n",
    "    print(f'''\\t Since the p-value, {round(p_value,3)} > {alpha} (alpha) the difference is not significant and,\n",
    "    \\t we fail to reject the Null hypothesis''')"
   ]
  },
  {
   "cell_type": "markdown",
   "metadata": {},
   "source": [
    "- The distribution of funds raised by the companies across the three regions is the same\n",
    "- We found no evidence to say companies participating in certain regions have funds either significantly on the higher side or on the lower side"
   ]
  },
  {
   "cell_type": "code",
   "execution_count": null,
   "metadata": {},
   "outputs": [],
   "source": []
  }
 ],
 "metadata": {
  "kernelspec": {
   "display_name": "Python 3",
   "language": "python",
   "name": "python3"
  },
  "language_info": {
   "codemirror_mode": {
    "name": "ipython",
    "version": 3
   },
   "file_extension": ".py",
   "mimetype": "text/x-python",
   "name": "python",
   "nbconvert_exporter": "python",
   "pygments_lexer": "ipython3",
   "version": "3.8.5"
  }
 },
 "nbformat": 4,
 "nbformat_minor": 4
}
